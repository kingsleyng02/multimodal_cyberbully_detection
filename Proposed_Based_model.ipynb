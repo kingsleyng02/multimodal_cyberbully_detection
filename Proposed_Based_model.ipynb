{
 "cells": [
  {
   "cell_type": "code",
   "execution_count": 1,
   "id": "00057015",
   "metadata": {
    "execution": {
     "iopub.execute_input": "2023-09-14T14:45:20.973334Z",
     "iopub.status.busy": "2023-09-14T14:45:20.973000Z",
     "iopub.status.idle": "2023-09-14T14:45:31.518071Z",
     "shell.execute_reply": "2023-09-14T14:45:31.517040Z"
    },
    "papermill": {
     "duration": 10.564675,
     "end_time": "2023-09-14T14:45:31.520568",
     "exception": false,
     "start_time": "2023-09-14T14:45:20.955893",
     "status": "completed"
    },
    "tags": []
   },
   "outputs": [],
   "source": [
    "import os \n",
    "import random\n",
    "import matplotlib.pyplot as plt\n",
    "import json\n",
    "import numpy as np\n",
    "import cv2\n",
    "import typing as t\n",
    "from tqdm import tqdm\n",
    "import re\n",
    "import string\n",
    "import nltk\n",
    "from nltk.corpus import stopwords, wordnet\n",
    "from nltk.stem import SnowballStemmer\n",
    "import tensorflow as tf\n",
    "\n",
    "import tensorflow.keras.backend as K\n",
    "from tensorflow.keras.layers import Input,Conv2D,MaxPooling2D,Flatten,Dense,Dropout, Attention,concatenate, Layer, TextVectorization, BatchNormalization\n",
    "from tensorflow.keras.callbacks import EarlyStopping, ModelCheckpoint\n",
    "from tensorflow.keras.models import Model, Sequential\n",
    "from tensorflow.keras.applications import VGG19\n",
    "from tensorflow.keras.applications.vgg19 import preprocess_input\n",
    "from tensorflow.keras import models\n",
    "from tensorflow.keras import layers\n",
    "from tensorflow.keras import optimizers\n",
    "from tensorflow.keras import metrics\n",
    "from tensorflow.keras.utils import pad_sequences\n",
    "from tensorflow.keras.preprocessing.text import Tokenizer\n",
    "from sklearn.metrics import classification_report\n",
    "from tensorflow.keras.models import load_model\n"
   ]
  },
  {
   "cell_type": "code",
   "execution_count": 2,
   "id": "b8e8337d",
   "metadata": {
    "execution": {
     "iopub.execute_input": "2023-09-14T14:45:32.578706Z",
     "iopub.status.busy": "2023-09-14T14:45:32.578427Z",
     "iopub.status.idle": "2023-09-14T14:45:32.899212Z",
     "shell.execute_reply": "2023-09-14T14:45:32.898318Z"
    },
    "papermill": {
     "duration": 0.339286,
     "end_time": "2023-09-14T14:45:32.901837",
     "exception": false,
     "start_time": "2023-09-14T14:45:32.562551",
     "status": "completed"
    },
    "tags": []
   },
   "outputs": [
    {
     "data": {
      "text/plain": [
       "True"
      ]
     },
     "execution_count": 2,
     "metadata": {},
     "output_type": "execute_result"
    }
   ],
   "source": [
    "nltk.download('stopwords', quiet=True)\n",
    "nltk.download('wordnet', quiet=True)\n",
    "nltk.download('omw-1.4', quiet=True)\n",
    "nltk.download('averaged_perceptron_tagger', quiet=True)"
   ]
  },
  {
   "cell_type": "code",
   "execution_count": 3,
   "id": "e0521d63",
   "metadata": {
    "execution": {
     "iopub.execute_input": "2023-09-14T14:45:32.971410Z",
     "iopub.status.busy": "2023-09-14T14:45:32.971126Z",
     "iopub.status.idle": "2023-09-14T14:45:32.984304Z",
     "shell.execute_reply": "2023-09-14T14:45:32.983423Z"
    },
    "papermill": {
     "duration": 0.031126,
     "end_time": "2023-09-14T14:45:32.986416",
     "exception": false,
     "start_time": "2023-09-14T14:45:32.955290",
     "status": "completed"
    },
    "tags": []
   },
   "outputs": [
    {
     "name": "stdout",
     "output_type": "stream",
     "text": [
      "['4FE40520', 'bert only.ipynb', 'example1.xlsx', 'Final_dataset4.csv', 'fyp(backup).ipynb', 'fyp.ipynb', 'glove.6B.300d.txt', 'hatespeech_keywords.txt', 'image_latest(balanced)', 'image_latest(balanced)(testing)(resized)', 'image_trying_new', 'image_trying_new_resized', 'image_trying_text_new', 'img_dataset', 'img_resized', 'img_txt', 'img_txt(latest)', 'latest.xlsx', 'latestbeforeStemandLemma.xlsx', 'latestV3(balanced).xlsx', 'latestV3(removedOCRText).xlsx', 'latestV3.xlsx', 'merged(Text)(CleanedLatest)(latest).xlsx', 'merged(Text)(CleanedLatest).xlsx', 'merged(Text).xlsx', 'MMHS150K_GT.json', 'MMHS150K_readme.txt', 'model', 'modelDevelopment.ipynb', 'modelDevelopment2.ipynb', 'modelDevelopment3.ipynb', 'model_Development.py', 'multimodal-meme-classifcation(5).ipynb', 'multimodal-meme-classification (1).ipynb', 'multimodal-meme-classification(3).ipynb', 'multimodal-meme-classification(4).ipynb', 'multimodal-meme-classification.ipynb', 'multimodal_attention_model', 'multimodal_attention_model_v2', 'multimodal_model_weights.h5', 'multimodal_model_weights_v2.h5', 'output_txt(OCR)(2)(cleaned).xlsx', 'semantic_attention_model', 'semantic_attention_model_v2', 'semantic_model_weights.h5', 'semantic_model_weights_v2.h5', 'splits', 'temp_text_new', 'text_vectorization_vocab.json', 'tuner_dir', 'tuner_dir_new', 'tuner_dir_vgg', 'tuner_dir_vgg19', 'vectorization_layer_model', 'visual_attention_model_v2', 'visual_attn_model', 'visual_attn_model_v2', 'visual_model_weights.h5', 'visual_model_weights_v2.h5']\n"
     ]
    }
   ],
   "source": [
    "base_dir = 'C:\\\\Kingsley\\\\multimodia-hatespeech\\\\'\n",
    "print(os.listdir(base_dir))"
   ]
  },
  {
   "cell_type": "code",
   "execution_count": 4,
   "id": "de0857ac",
   "metadata": {
    "execution": {
     "iopub.execute_input": "2023-09-14T14:45:33.017453Z",
     "iopub.status.busy": "2023-09-14T14:45:33.017169Z",
     "iopub.status.idle": "2023-09-14T14:45:33.027032Z",
     "shell.execute_reply": "2023-09-14T14:45:33.025853Z"
    },
    "papermill": {
     "duration": 0.027812,
     "end_time": "2023-09-14T14:45:33.029213",
     "exception": false,
     "start_time": "2023-09-14T14:45:33.001401",
     "status": "completed"
    },
    "tags": []
   },
   "outputs": [
    {
     "name": "stdout",
     "output_type": "stream",
     "text": [
      "['test_ids.txt', 'train_ids.txt', 'val_ids.txt']\n"
     ]
    }
   ],
   "source": [
    "splits_path = os.path.join(base_dir, 'splits\\\\')\n",
    "print(os.listdir(splits_path))"
   ]
  },
  {
   "cell_type": "code",
   "execution_count": 5,
   "id": "186a8254",
   "metadata": {
    "execution": {
     "iopub.execute_input": "2023-09-14T14:45:33.060426Z",
     "iopub.status.busy": "2023-09-14T14:45:33.060143Z",
     "iopub.status.idle": "2023-09-14T14:45:33.065160Z",
     "shell.execute_reply": "2023-09-14T14:45:33.064131Z"
    },
    "papermill": {
     "duration": 0.023123,
     "end_time": "2023-09-14T14:45:33.067393",
     "exception": false,
     "start_time": "2023-09-14T14:45:33.044270",
     "status": "completed"
    },
    "tags": []
   },
   "outputs": [],
   "source": [
    "##Function to read file IDs of train, val, test splits\n",
    "def read_ids(path):\n",
    "    with open(path) as f:\n",
    "        lines = f.readlines()\n",
    "        lines = [x.strip() for x in lines]\n",
    "        \n",
    "        return lines\n",
    "    "
   ]
  },
  {
   "cell_type": "code",
   "execution_count": 6,
   "id": "9eff4ad8",
   "metadata": {
    "execution": {
     "iopub.execute_input": "2023-09-14T14:45:33.098854Z",
     "iopub.status.busy": "2023-09-14T14:45:33.098586Z",
     "iopub.status.idle": "2023-09-14T14:45:33.221520Z",
     "shell.execute_reply": "2023-09-14T14:45:33.220586Z"
    },
    "papermill": {
     "duration": 0.141146,
     "end_time": "2023-09-14T14:45:33.223787",
     "exception": false,
     "start_time": "2023-09-14T14:45:33.082641",
     "status": "completed"
    },
    "tags": []
   },
   "outputs": [],
   "source": [
    "train_id_path = os.path.join(splits_path, 'train_ids.txt')\n",
    "val_id_path = os.path.join(splits_path, 'val_ids.txt')\n",
    "test_id_path = os.path.join(splits_path, 'test_ids.txt')\n",
    "\n",
    "train_ids = read_ids(train_id_path)\n",
    "val_ids = read_ids(val_id_path)\n",
    "test_ids = read_ids(test_id_path)"
   ]
  },
  {
   "cell_type": "code",
   "execution_count": 7,
   "id": "01077d4e",
   "metadata": {
    "execution": {
     "iopub.execute_input": "2023-09-14T14:45:33.255693Z",
     "iopub.status.busy": "2023-09-14T14:45:33.255414Z",
     "iopub.status.idle": "2023-09-14T14:45:33.260351Z",
     "shell.execute_reply": "2023-09-14T14:45:33.259491Z"
    },
    "papermill": {
     "duration": 0.023424,
     "end_time": "2023-09-14T14:45:33.262834",
     "exception": false,
     "start_time": "2023-09-14T14:45:33.239410",
     "status": "completed"
    },
    "tags": []
   },
   "outputs": [
    {
     "name": "stdout",
     "output_type": "stream",
     "text": [
      "Training data size: 134823\n",
      "Validation data size: 5000\n",
      "Testing data size: 10000\n"
     ]
    }
   ],
   "source": [
    "print(f\"Training data size: {len(train_ids)}\")\n",
    "print(f\"Validation data size: {len(val_ids)}\")\n",
    "print(f\"Testing data size: {len(test_ids)}\")"
   ]
  },
  {
   "cell_type": "code",
   "execution_count": 8,
   "id": "47fb46df",
   "metadata": {
    "execution": {
     "iopub.execute_input": "2023-09-14T14:45:33.294270Z",
     "iopub.status.busy": "2023-09-14T14:45:33.293995Z",
     "iopub.status.idle": "2023-09-14T14:45:33.298146Z",
     "shell.execute_reply": "2023-09-14T14:45:33.297146Z"
    },
    "papermill": {
     "duration": 0.022673,
     "end_time": "2023-09-14T14:45:33.300689",
     "exception": false,
     "start_time": "2023-09-14T14:45:33.278016",
     "status": "completed"
    },
    "tags": []
   },
   "outputs": [],
   "source": [
    "img_dir = os.path.join(base_dir, 'img_resized')\n",
    "text_dir = os.path.join(base_dir, 'img_txt')"
   ]
  },
  {
   "cell_type": "code",
   "execution_count": 9,
   "id": "26126cf1",
   "metadata": {
    "execution": {
     "iopub.execute_input": "2023-09-14T14:45:33.373814Z",
     "iopub.status.busy": "2023-09-14T14:45:33.373490Z",
     "iopub.status.idle": "2023-09-14T14:45:40.037396Z",
     "shell.execute_reply": "2023-09-14T14:45:40.036180Z"
    },
    "papermill": {
     "duration": 6.682432,
     "end_time": "2023-09-14T14:45:40.039502",
     "exception": false,
     "start_time": "2023-09-14T14:45:33.357070",
     "status": "completed"
    },
    "tags": []
   },
   "outputs": [
    {
     "name": "stdout",
     "output_type": "stream",
     "text": [
      "Number of images: 150000\n",
      "Number of text files: 59252\n"
     ]
    }
   ],
   "source": [
    "##Check if there are any missing entries from either images or text\n",
    "print(f\"Number of images: {len(os.listdir(img_dir))}\")\n",
    "print(f\"Number of text files: {len(os.listdir(text_dir))}\")"
   ]
  },
  {
   "cell_type": "code",
   "execution_count": 10,
   "id": "6df22568",
   "metadata": {
    "execution": {
     "iopub.execute_input": "2023-09-14T14:45:40.072951Z",
     "iopub.status.busy": "2023-09-14T14:45:40.071958Z",
     "iopub.status.idle": "2023-09-14T14:45:40.297498Z",
     "shell.execute_reply": "2023-09-14T14:45:40.296419Z"
    },
    "papermill": {
     "duration": 0.244811,
     "end_time": "2023-09-14T14:45:40.300045",
     "exception": false,
     "start_time": "2023-09-14T14:45:40.055234",
     "status": "completed"
    },
    "tags": []
   },
   "outputs": [],
   "source": [
    "##Checking the images which dont have corresponding text files\n",
    "remove_extension = lambda x : x.split('.')[0]\n",
    "\n",
    "missing_text = set(map(remove_extension, os.listdir(img_dir))) - set(map(remove_extension, os.listdir(text_dir))) "
   ]
  },
  {
   "cell_type": "code",
   "execution_count": 11,
   "id": "e87aa769",
   "metadata": {
    "execution": {
     "iopub.execute_input": "2023-09-14T14:45:40.333558Z",
     "iopub.status.busy": "2023-09-14T14:45:40.332667Z",
     "iopub.status.idle": "2023-09-14T14:45:40.342900Z",
     "shell.execute_reply": "2023-09-14T14:45:40.342004Z"
    },
    "papermill": {
     "duration": 0.028911,
     "end_time": "2023-09-14T14:45:40.344959",
     "exception": false,
     "start_time": "2023-09-14T14:45:40.316048",
     "status": "completed"
    },
    "tags": []
   },
   "outputs": [],
   "source": [
    "missing_text = list(missing_text)"
   ]
  },
  {
   "cell_type": "code",
   "execution_count": 12,
   "id": "db175f30",
   "metadata": {
    "execution": {
     "iopub.execute_input": "2023-09-14T14:45:40.377465Z",
     "iopub.status.busy": "2023-09-14T14:45:40.376663Z",
     "iopub.status.idle": "2023-09-14T14:45:40.780999Z",
     "shell.execute_reply": "2023-09-14T14:45:40.780069Z"
    },
    "papermill": {
     "duration": 0.423779,
     "end_time": "2023-09-14T14:45:40.784116",
     "exception": false,
     "start_time": "2023-09-14T14:45:40.360337",
     "status": "completed"
    },
    "tags": []
   },
   "outputs": [
    {
     "data": {
      "text/plain": [
       "<matplotlib.image.AxesImage at 0x1fe78c3f7c0>"
      ]
     },
     "execution_count": 12,
     "metadata": {},
     "output_type": "execute_result"
    },
    {
     "data": {
      "image/png": "[encoded data removed]",
      "text/plain": [
       "<Figure size 640x480 with 1 Axes>"
      ]
     },
     "metadata": {},
     "output_type": "display_data"
    }
   ],
   "source": [
    "##Plotting an image randomly from those which dont have corresponding image texts\n",
    "## Cell can be run multiple times to verify that these images don't have text\n",
    "random_image = plt.imread(os.path.join(img_dir, random.choice(missing_text))+'.jpg')\n",
    "plt.imshow(random_image)"
   ]
  },
  {
   "cell_type": "markdown",
   "id": "49252a8f",
   "metadata": {
    "papermill": {
     "duration": 0.016891,
     "end_time": "2023-09-14T14:45:40.818463",
     "exception": false,
     "start_time": "2023-09-14T14:45:40.801572",
     "status": "completed"
    },
    "tags": []
   },
   "source": [
    "## POSSIBLY NSFW CELL BELOW"
   ]
  },
  {
   "cell_type": "code",
   "execution_count": 13,
   "id": "2896f0bb",
   "metadata": {
    "execution": {
     "iopub.execute_input": "2023-09-14T14:45:40.853793Z",
     "iopub.status.busy": "2023-09-14T14:45:40.853489Z",
     "iopub.status.idle": "2023-09-14T14:45:41.454897Z",
     "shell.execute_reply": "2023-09-14T14:45:41.453045Z"
    },
    "papermill": {
     "duration": 0.622271,
     "end_time": "2023-09-14T14:45:41.457614",
     "exception": false,
     "start_time": "2023-09-14T14:45:40.835343",
     "status": "completed"
    },
    "tags": []
   },
   "outputs": [
    {
     "data": {
      "text/plain": [
       "<matplotlib.image.AxesImage at 0x1fe7b5c4760>"
      ]
     },
     "execution_count": 13,
     "metadata": {},
     "output_type": "execute_result"
    },
    {
     "data": {
      "image/png": "[encoded data removed]",
      "text/plain": [
       "<Figure size 640x480 with 1 Axes>"
      ]
     },
     "metadata": {},
     "output_type": "display_data"
    }
   ],
   "source": [
    "with_text_imgs = set(map(remove_extension, os.listdir(img_dir))).intersection(set(map(remove_extension, os.listdir(text_dir))))\n",
    "with_text_imgs = list(with_text_imgs)\n",
    "\n",
    "img_name = random.choice(with_text_imgs)\n",
    "img_with_text_path = plt.imread(os.path.join(img_dir, img_name + '.jpg'))\n",
    "plt.imshow(img_with_text_path)"
   ]
  },
  {
   "cell_type": "code",
   "execution_count": 14,
   "id": "0774a373",
   "metadata": {
    "execution": {
     "iopub.execute_input": "2023-09-14T14:45:41.500451Z",
     "iopub.status.busy": "2023-09-14T14:45:41.499611Z",
     "iopub.status.idle": "2023-09-14T14:45:41.505389Z",
     "shell.execute_reply": "2023-09-14T14:45:41.504327Z"
    },
    "papermill": {
     "duration": 0.029159,
     "end_time": "2023-09-14T14:45:41.507483",
     "exception": false,
     "start_time": "2023-09-14T14:45:41.478324",
     "status": "completed"
    },
    "tags": []
   },
   "outputs": [
    {
     "name": "stdout",
     "output_type": "stream",
     "text": [
      "C:\\Kingsley\\multimodia-hatespeech\\img_txt\\1057728808521003008.json\n"
     ]
    }
   ],
   "source": [
    "print(os.path.join(text_dir, img_name + '.json'))"
   ]
  },
  {
   "cell_type": "code",
   "execution_count": 15,
   "id": "ee3f2959",
   "metadata": {
    "execution": {
     "iopub.execute_input": "2023-09-14T14:45:41.549244Z",
     "iopub.status.busy": "2023-09-14T14:45:41.548485Z",
     "iopub.status.idle": "2023-09-14T14:45:41.562696Z",
     "shell.execute_reply": "2023-09-14T14:45:41.561430Z"
    },
    "papermill": {
     "duration": 0.037276,
     "end_time": "2023-09-14T14:45:41.564705",
     "exception": false,
     "start_time": "2023-09-14T14:45:41.527429",
     "status": "completed"
    },
    "tags": []
   },
   "outputs": [
    {
     "name": "stdout",
     "output_type": "stream",
     "text": [
      "{'img_text': \"30%3:18 PM Sprint Photo kingjames wish AKERS 23 24 SLAME Liked by kingkeraun and 1,015,456 others kingjames Man Imagine If We Had It Wouldn't Even Be. Never mind. 23.24-a. #LivingLegends SHEESH!! Happy Halloween! # Repost View all 15285 comments quavohuncho COME BACK KOBE24 Wearing 42 \"}\n"
     ]
    }
   ],
   "source": [
    "with open(os.path.join(text_dir, img_name + '.json')) as f:\n",
    "    d = json.load(f)\n",
    "    print(d)"
   ]
  },
  {
   "cell_type": "code",
   "execution_count": 16,
   "id": "bfed40e4",
   "metadata": {
    "execution": {
     "iopub.execute_input": "2023-09-14T14:45:41.606720Z",
     "iopub.status.busy": "2023-09-14T14:45:41.605934Z",
     "iopub.status.idle": "2023-09-14T14:45:41.615501Z",
     "shell.execute_reply": "2023-09-14T14:45:41.614623Z"
    },
    "papermill": {
     "duration": 0.032762,
     "end_time": "2023-09-14T14:45:41.617548",
     "exception": false,
     "start_time": "2023-09-14T14:45:41.584786",
     "status": "completed"
    },
    "tags": []
   },
   "outputs": [],
   "source": [
    "def preprocess_text(text: str, encoding='utf-8') -> str:\n",
    "    try:\n",
    "        # Convert to lowercase\n",
    "        text = text.lower()\n",
    "\n",
    "        # Non-word character Removal\n",
    "        text = re.sub(r'[^\\w\\s]', '', text, flags=re.UNICODE)\n",
    "        \n",
    "        # Digits Removal\n",
    "        text = re.sub(r'\\d', '', text)\n",
    "\n",
    "        # Remove punctuation\n",
    "        PUNCT_TO_REMOVE = string.punctuation\n",
    "        text = text.translate(str.maketrans('', '', PUNCT_TO_REMOVE))\n",
    "        \n",
    "        # Remove stopwords\n",
    "        STOPWORDS = set(stopwords.words('english'))\n",
    "        text = \" \".join([word for word in text.split() if word not in STOPWORDS])\n",
    "        \n",
    "        # Stem words\n",
    "        stemmer = SnowballStemmer(language='english')\n",
    "        text = \" \".join([stemmer.stem(word) for word in text.split()])\n",
    "\n",
    "        # Remove URLs\n",
    "        url_pattern = re.compile(r'https?://\\S+|www\\.\\S+')\n",
    "        text = url_pattern.sub(r'', text)\n",
    "\n",
    "        # Remove HTML tags\n",
    "        html_pattern = re.compile('<.*?>')\n",
    "        text = html_pattern.sub(r'', text)\n",
    "\n",
    "        return text\n",
    "    except UnicodeDecodeError as e:\n",
    "        print(f\"UnicodeDecodeError in preprocess_text: {e}\")\n",
    "        return ''\n",
    "\n",
    "\n",
    "def preprocess_text_from_path(path : str) -> str:\n",
    "    \n",
    "    try:\n",
    "        with open(path) as f:\n",
    "            d = json.load(f)\n",
    "            text = d['img_text']\n",
    "        \n",
    "    except Exception as e:\n",
    "        text = ''\n",
    "    \n",
    "#     return text\n",
    "    return preprocess_text(text)"
   ]
  },
  {
   "cell_type": "code",
   "execution_count": 17,
   "id": "776e2e97",
   "metadata": {
    "execution": {
     "iopub.execute_input": "2023-09-14T14:45:41.659861Z",
     "iopub.status.busy": "2023-09-14T14:45:41.659090Z",
     "iopub.status.idle": "2023-09-14T14:45:41.668074Z",
     "shell.execute_reply": "2023-09-14T14:45:41.667094Z"
    },
    "papermill": {
     "duration": 0.032158,
     "end_time": "2023-09-14T14:45:41.670066",
     "exception": false,
     "start_time": "2023-09-14T14:45:41.637908",
     "status": "completed"
    },
    "tags": []
   },
   "outputs": [
    {
     "data": {
      "text/plain": [
       "'hey test see text preprocessor work intend'"
      ]
     },
     "execution_count": 17,
     "metadata": {},
     "output_type": "execute_result"
    }
   ],
   "source": [
    "testext1='Hey there this is a test to see if this text preprocessor is working as intended'\n",
    "preprocess_text(testext1)"
   ]
  },
  {
   "cell_type": "code",
   "execution_count": 18,
   "id": "e95e8d6a",
   "metadata": {
    "execution": {
     "iopub.execute_input": "2023-09-14T14:45:41.712435Z",
     "iopub.status.busy": "2023-09-14T14:45:41.711693Z",
     "iopub.status.idle": "2023-09-14T14:45:41.716068Z",
     "shell.execute_reply": "2023-09-14T14:45:41.715202Z"
    },
    "papermill": {
     "duration": 0.027577,
     "end_time": "2023-09-14T14:45:41.718013",
     "exception": false,
     "start_time": "2023-09-14T14:45:41.690436",
     "status": "completed"
    },
    "tags": []
   },
   "outputs": [],
   "source": [
    "labels_path = 'C:\\\\Kingsley\\\\multimodia-hatespeech\\\\MMHS150K_GT.json'"
   ]
  },
  {
   "cell_type": "code",
   "execution_count": 19,
   "id": "1e72c5ef",
   "metadata": {
    "execution": {
     "iopub.execute_input": "2023-09-14T14:45:41.764218Z",
     "iopub.status.busy": "2023-09-14T14:45:41.763461Z",
     "iopub.status.idle": "2023-09-14T14:45:41.769921Z",
     "shell.execute_reply": "2023-09-14T14:45:41.769041Z"
    },
    "papermill": {
     "duration": 0.030319,
     "end_time": "2023-09-14T14:45:41.771903",
     "exception": false,
     "start_time": "2023-09-14T14:45:41.741584",
     "status": "completed"
    },
    "tags": []
   },
   "outputs": [],
   "source": [
    "def text_for_tokenizer(ids):\n",
    "    all_texts = []\n",
    "    \n",
    "    \n",
    "    for img_id in ids:\n",
    "        \n",
    "        try:\n",
    "            txt_file_name = os.path.join(text_dir, img_id + '.json')\n",
    "\n",
    "            with open(txt_file_name) as f:\n",
    "                txt_dict = json.load(f)\n",
    "            \n",
    "            txt = txt_dict['img_text']\n",
    "            processed_txt = preprocess_text(txt)\n",
    "            all_texts.append(processed_txt)\n",
    "            \n",
    "        except Exception:\n",
    "            txt = ''\n",
    "            all_texts.append(txt)\n",
    "            \n",
    "            \n",
    "    return all_texts"
   ]
  },
  {
   "cell_type": "code",
   "execution_count": 20,
   "id": "3d33c8b3",
   "metadata": {
    "execution": {
     "iopub.execute_input": "2023-09-14T14:45:41.813962Z",
     "iopub.status.busy": "2023-09-14T14:45:41.813130Z",
     "iopub.status.idle": "2023-09-14T14:53:53.540838Z",
     "shell.execute_reply": "2023-09-14T14:53:53.539754Z"
    },
    "papermill": {
     "duration": 491.751553,
     "end_time": "2023-09-14T14:53:53.543577",
     "exception": false,
     "start_time": "2023-09-14T14:45:41.792024",
     "status": "completed"
    },
    "tags": []
   },
   "outputs": [],
   "source": [
    "txt = text_for_tokenizer(train_ids)"
   ]
  },
  {
   "cell_type": "code",
   "execution_count": 21,
   "id": "ff424596",
   "metadata": {
    "execution": {
     "iopub.execute_input": "2023-09-14T14:53:53.587481Z",
     "iopub.status.busy": "2023-09-14T14:53:53.586484Z",
     "iopub.status.idle": "2023-09-14T14:53:53.591667Z",
     "shell.execute_reply": "2023-09-14T14:53:53.590576Z"
    },
    "papermill": {
     "duration": 0.028737,
     "end_time": "2023-09-14T14:53:53.593669",
     "exception": false,
     "start_time": "2023-09-14T14:53:53.564932",
     "status": "completed"
    },
    "tags": []
   },
   "outputs": [],
   "source": [
    "training_texts = txt"
   ]
  },
  {
   "cell_type": "code",
   "execution_count": 22,
   "id": "f291e628",
   "metadata": {
    "execution": {
     "iopub.execute_input": "2023-09-14T14:53:53.635269Z",
     "iopub.status.busy": "2023-09-14T14:53:53.634996Z",
     "iopub.status.idle": "2023-09-14T14:54:09.068766Z",
     "shell.execute_reply": "2023-09-14T14:54:09.067687Z"
    },
    "papermill": {
     "duration": 15.457999,
     "end_time": "2023-09-14T14:54:09.071674",
     "exception": false,
     "start_time": "2023-09-14T14:53:53.613675",
     "status": "completed"
    },
    "tags": []
   },
   "outputs": [],
   "source": [
    "max_features = 50000  #max number of tokens...the max number of unique words from our text data\n",
    "sequence_length = 50 #output length..if some are not of this length they get padded\n",
    "\n",
    "vectorization_layer = TextVectorization(\n",
    "    max_tokens=max_features,\n",
    "    output_mode='int',\n",
    "    output_sequence_length=sequence_length,\n",
    "    pad_to_max_tokens=True)\n",
    "\n",
    "vectorization_layer.adapt(training_texts)\n",
    "\n"
   ]
  },
  {
   "cell_type": "code",
   "execution_count": 39,
   "id": "7524dad7",
   "metadata": {},
   "outputs": [],
   "source": [
    "# embeddings_index = {}\n",
    "# try:\n",
    "#     with open(os.path.join(base_dir, 'glove.6B.300d.txt'), encoding='utf-8') as f:\n",
    "#         for line in f:\n",
    "#             values = line.split()\n",
    "#             word = values[0]\n",
    "#             coefs = np.asarray(values[1:], dtype='float32')\n",
    "#             embeddings_index[word] = coefs\n",
    "# except UnicodeDecodeError as e:\n",
    "#     print(f\"Encoding error: {e}\")\n"
   ]
  },
  {
   "cell_type": "code",
   "execution_count": 23,
   "id": "a8e31e7d",
   "metadata": {
    "execution": {
     "iopub.execute_input": "2023-09-14T14:57:45.548937Z",
     "iopub.status.busy": "2023-09-14T14:57:45.548289Z",
     "iopub.status.idle": "2023-09-14T14:57:45.553519Z",
     "shell.execute_reply": "2023-09-14T14:57:45.552602Z"
    },
    "papermill": {
     "duration": 0.08682,
     "end_time": "2023-09-14T14:57:45.555714",
     "exception": false,
     "start_time": "2023-09-14T14:57:45.468894",
     "status": "completed"
    },
    "tags": []
   },
   "outputs": [],
   "source": [
    "def binarize_labels(labels):\n",
    "    \n",
    "    binarized_labels = []\n",
    "    \n",
    "    for label_lst in labels:\n",
    "        if 0 in label_lst:\n",
    "            binarized_labels.append(0)\n",
    "        else:\n",
    "            binarized_labels.append(1)\n",
    "    \n",
    "    return binarized_labels"
   ]
  },
  {
   "cell_type": "code",
   "execution_count": 52,
   "id": "65685b8a",
   "metadata": {
    "execution": {
     "iopub.execute_input": "2023-09-14T14:57:45.713143Z",
     "iopub.status.busy": "2023-09-14T14:57:45.712812Z",
     "iopub.status.idle": "2023-09-14T14:57:45.728208Z",
     "shell.execute_reply": "2023-09-14T14:57:45.727315Z"
    },
    "papermill": {
     "duration": 0.096831,
     "end_time": "2023-09-14T14:57:45.730258",
     "exception": false,
     "start_time": "2023-09-14T14:57:45.633427",
     "status": "completed"
    },
    "tags": []
   },
   "outputs": [],
   "source": [
    "def preprocess_image(image_path):\n",
    "    img = plt.imread(image_path)\n",
    "    img = cv2.resize(img, (224,224))\n",
    "    img = preprocess_input(img)\n",
    "    img = img/255.0\n",
    "    return img\n",
    "\n",
    "\n",
    "def load_data(ids, batch_size = 32, mode = 'both', shuffle = False):\n",
    "    \n",
    "    image_paths = []\n",
    "    text_paths = []\n",
    "    labels = []\n",
    "    \n",
    "\n",
    "    for data_id in tqdm(ids):\n",
    "            img_path = os.path.join(img_dir, data_id + '.jpg')\n",
    "            text_path = os.path.join(text_dir, data_id + '.json')\n",
    "            \n",
    "            image_paths.append(img_path)\n",
    "            text_paths.append(text_path)\n",
    "    \n",
    "    with open(labels_path) as f:\n",
    "        label_dict = json.load(f)\n",
    "        \n",
    "    for data_id in ids:\n",
    "#         print(data_id)\n",
    "#         print(len(label_dict[data_id]['labels']))\n",
    "        labels.append(label_dict[data_id]['labels'])\n",
    "    \n",
    "    num_samples = len(image_paths)\n",
    "    indices = np.arange(num_samples)\n",
    "    \n",
    "    print(len(labels))\n",
    "    \n",
    "    if shuffle:\n",
    "        np.random.shuffle(indices)\n",
    "\n",
    "    while True:\n",
    "        for start_idx in range(0, num_samples, batch_size):\n",
    "            end_idx = min(start_idx + batch_size, num_samples)\n",
    "            batch_indices = np.array(indices[start_idx:end_idx], dtype = 'uint8')    \n",
    "                        \n",
    "            batch_images = [preprocess_image(image_paths[i]) for i in batch_indices]\n",
    "            batch_images = np.array(batch_images)\n",
    "\n",
    "            batch_texts = [preprocess_text_from_path(text_paths[i]) for i in batch_indices]\n",
    "            batch_texts = vectorization_layer((np.array(batch_texts)))\n",
    "\n",
    "            batch_labels = binarize_labels(np.array((labels), dtype = 'object')[batch_indices])\n",
    "            \n",
    "            if mode == 'both':\n",
    "                yield (batch_images, batch_texts), np.array(batch_labels)\n",
    "            elif mode == 'img':\n",
    "                yield batch_images, np.array(batch_labels)\n",
    "            elif mode == 'text':\n",
    "                yield  batch_texts, np.array(batch_labels)\n",
    "            else:\n",
    "                raise Exception(\"Wrong mode specified\")"
   ]
  },
  {
   "cell_type": "code",
   "execution_count": 51,
   "id": "cf571dbf",
   "metadata": {
    "execution": {
     "iopub.execute_input": "2023-09-14T14:57:45.887976Z",
     "iopub.status.busy": "2023-09-14T14:57:45.887672Z",
     "iopub.status.idle": "2023-09-14T14:57:49.066627Z",
     "shell.execute_reply": "2023-09-14T14:57:49.065630Z"
    },
    "papermill": {
     "duration": 3.260858,
     "end_time": "2023-09-14T14:57:49.069076",
     "exception": false,
     "start_time": "2023-09-14T14:57:45.808218",
     "status": "completed"
    },
    "tags": []
   },
   "outputs": [
    {
     "name": "stderr",
     "output_type": "stream",
     "text": [
      "100%|██████████| 134823/134823 [00:00<00:00, 205908.38it/s]\n"
     ]
    },
    {
     "name": "stdout",
     "output_type": "stream",
     "text": [
      "134823\n"
     ]
    }
   ],
   "source": [
    "train_data_generator = load_data(train_ids)\n",
    "\n",
    "# To retrieve a batch of data:\n",
    "batch_data, batch_labels = next(train_data_generator)\n",
    "batch_images, batch_texts = batch_data"
   ]
  },
  {
   "cell_type": "code",
   "execution_count": 53,
   "id": "6339771c",
   "metadata": {
    "execution": {
     "iopub.execute_input": "2023-09-14T14:57:49.230040Z",
     "iopub.status.busy": "2023-09-14T14:57:49.229711Z",
     "iopub.status.idle": "2023-09-14T14:57:49.237330Z",
     "shell.execute_reply": "2023-09-14T14:57:49.236327Z"
    },
    "papermill": {
     "duration": 0.089997,
     "end_time": "2023-09-14T14:57:49.239491",
     "exception": false,
     "start_time": "2023-09-14T14:57:49.149494",
     "status": "completed"
    },
    "tags": []
   },
   "outputs": [],
   "source": [
    "def text_feature_extractor():\n",
    "    input_txt = Input(shape=(sequence_length,), dtype='int64')\n",
    "    txt = layers.Embedding(max_features, 128)(input_txt)  # Randomly initialized embeddings\n",
    "    text_lstm = layers.Bidirectional(layers.LSTM(256, return_sequences=True))(txt)\n",
    "    text_lstm = layers.Bidirectional(layers.LSTM(128, return_sequences=True))(text_lstm)\n",
    "    text_lstm = layers.Bidirectional(layers.LSTM(64, return_sequences=False))(text_lstm)\n",
    "    attention_layer = Attention(use_scale=True)([text_lstm, text_lstm])\n",
    "    text_flatten = Flatten()(attention_layer)\n",
    "    fc_layer = Dense(512, activation='relu')(text_flatten)\n",
    "    fc_layer = Dropout(0.3)(fc_layer)\n",
    "    fc_layer = Dense(128, activation='relu')(fc_layer)\n",
    "    fc_layer = Dropout(0.3)(fc_layer)\n",
    "    out_layer = Dense(64, activation='relu')(fc_layer)\n",
    "\n",
    "    return Model(inputs=input_txt, outputs=out_layer)"
   ]
  },
  {
   "cell_type": "code",
   "execution_count": 54,
   "id": "474e113d",
   "metadata": {
    "execution": {
     "iopub.execute_input": "2023-09-14T14:57:49.399898Z",
     "iopub.status.busy": "2023-09-14T14:57:49.399599Z",
     "iopub.status.idle": "2023-09-14T14:57:49.407892Z",
     "shell.execute_reply": "2023-09-14T14:57:49.407039Z"
    },
    "papermill": {
     "duration": 0.091279,
     "end_time": "2023-09-14T14:57:49.409930",
     "exception": false,
     "start_time": "2023-09-14T14:57:49.318651",
     "status": "completed"
    },
    "tags": []
   },
   "outputs": [],
   "source": [
    "def create_image_feature_extractor(input_shape=(224, 224, 3)):\n",
    "    \n",
    "    # Define the input layer\n",
    "    input_tensor = Input(shape=input_shape)\n",
    "    \n",
    "    conv = Conv2D(32, 2, activation = 'relu')(input_tensor)\n",
    "    bn = BatchNormalization()(conv)\n",
    "    mp = MaxPooling2D((3,3))(bn)\n",
    "    \n",
    "    conv = Conv2D(32, 3, activation = 'relu')(mp)\n",
    "    bn = BatchNormalization()(conv)\n",
    "    mp = MaxPooling2D((3,3))(bn)\n",
    "\n",
    "    visual_attention = Attention(use_scale = True)([mp, mp])\n",
    "    \n",
    "    visual_attention = Flatten()(visual_attention)\n",
    "    \n",
    "    op = Dense(64)(visual_attention)\n",
    "    \n",
    "    feature_extractor = Model(inputs = input_tensor, outputs = op, name = 'image_feature_extractor')\n",
    "    \n",
    "    return feature_extractor"
   ]
  },
  {
   "cell_type": "code",
   "execution_count": 55,
   "id": "74bf187a",
   "metadata": {
    "execution": {
     "iopub.execute_input": "2023-09-14T14:57:49.568891Z",
     "iopub.status.busy": "2023-09-14T14:57:49.568070Z",
     "iopub.status.idle": "2023-09-14T14:57:51.118101Z",
     "shell.execute_reply": "2023-09-14T14:57:51.117309Z"
    },
    "papermill": {
     "duration": 1.647606,
     "end_time": "2023-09-14T14:57:51.136149",
     "exception": false,
     "start_time": "2023-09-14T14:57:49.488543",
     "status": "completed"
    },
    "tags": []
   },
   "outputs": [
    {
     "name": "stdout",
     "output_type": "stream",
     "text": [
      "Model: \"model_4\"\n",
      "__________________________________________________________________________________________________\n",
      " Layer (type)                   Output Shape         Param #     Connected to                     \n",
      "==================================================================================================\n",
      " input_9 (InputLayer)           [(None, 50)]         0           []                               \n",
      "                                                                                                  \n",
      " embedding_3 (Embedding)        (None, 50, 128)      6400000     ['input_9[0][0]']                \n",
      "                                                                                                  \n",
      " bidirectional_9 (Bidirectional  (None, 50, 512)     788480      ['embedding_3[0][0]']            \n",
      " )                                                                                                \n",
      "                                                                                                  \n",
      " bidirectional_10 (Bidirectiona  (None, 50, 256)     656384      ['bidirectional_9[0][0]']        \n",
      " l)                                                                                               \n",
      "                                                                                                  \n",
      " bidirectional_11 (Bidirectiona  (None, 128)         164352      ['bidirectional_10[0][0]']       \n",
      " l)                                                                                               \n",
      "                                                                                                  \n",
      " attention_6 (Attention)        (None, 128)          1           ['bidirectional_11[0][0]',       \n",
      "                                                                  'bidirectional_11[0][0]']       \n",
      "                                                                                                  \n",
      " flatten_6 (Flatten)            (None, 128)          0           ['attention_6[0][0]']            \n",
      "                                                                                                  \n",
      " dense_15 (Dense)               (None, 512)          66048       ['flatten_6[0][0]']              \n",
      "                                                                                                  \n",
      " dropout_6 (Dropout)            (None, 512)          0           ['dense_15[0][0]']               \n",
      "                                                                                                  \n",
      " dense_16 (Dense)               (None, 128)          65664       ['dropout_6[0][0]']              \n",
      "                                                                                                  \n",
      " dropout_7 (Dropout)            (None, 128)          0           ['dense_16[0][0]']               \n",
      "                                                                                                  \n",
      " dense_17 (Dense)               (None, 64)           8256        ['dropout_7[0][0]']              \n",
      "                                                                                                  \n",
      "==================================================================================================\n",
      "Total params: 8,149,185\n",
      "Trainable params: 8,149,185\n",
      "Non-trainable params: 0\n",
      "__________________________________________________________________________________________________\n"
     ]
    }
   ],
   "source": [
    "text_attn = text_feature_extractor()\n",
    "text_attn.summary()"
   ]
  },
  {
   "cell_type": "code",
   "execution_count": 56,
   "id": "392b0239",
   "metadata": {
    "execution": {
     "iopub.execute_input": "2023-09-14T14:57:51.305040Z",
     "iopub.status.busy": "2023-09-14T14:57:51.304716Z",
     "iopub.status.idle": "2023-09-14T14:57:51.415338Z",
     "shell.execute_reply": "2023-09-14T14:57:51.414653Z"
    },
    "papermill": {
     "duration": 0.21473,
     "end_time": "2023-09-14T14:57:51.434993",
     "exception": false,
     "start_time": "2023-09-14T14:57:51.220263",
     "status": "completed"
    },
    "tags": []
   },
   "outputs": [
    {
     "name": "stdout",
     "output_type": "stream",
     "text": [
      "Model: \"image_feature_extractor\"\n",
      "__________________________________________________________________________________________________\n",
      " Layer (type)                   Output Shape         Param #     Connected to                     \n",
      "==================================================================================================\n",
      " input_10 (InputLayer)          [(None, 224, 224, 3  0           []                               \n",
      "                                )]                                                                \n",
      "                                                                                                  \n",
      " conv2d_6 (Conv2D)              (None, 223, 223, 32  416         ['input_10[0][0]']               \n",
      "                                )                                                                 \n",
      "                                                                                                  \n",
      " batch_normalization_6 (BatchNo  (None, 223, 223, 32  128        ['conv2d_6[0][0]']               \n",
      " rmalization)                   )                                                                 \n",
      "                                                                                                  \n",
      " max_pooling2d_6 (MaxPooling2D)  (None, 74, 74, 32)  0           ['batch_normalization_6[0][0]']  \n",
      "                                                                                                  \n",
      " conv2d_7 (Conv2D)              (None, 72, 72, 32)   9248        ['max_pooling2d_6[0][0]']        \n",
      "                                                                                                  \n",
      " batch_normalization_7 (BatchNo  (None, 72, 72, 32)  128         ['conv2d_7[0][0]']               \n",
      " rmalization)                                                                                     \n",
      "                                                                                                  \n",
      " max_pooling2d_7 (MaxPooling2D)  (None, 24, 24, 32)  0           ['batch_normalization_7[0][0]']  \n",
      "                                                                                                  \n",
      " attention_7 (Attention)        (None, 24, 24, 32)   1           ['max_pooling2d_7[0][0]',        \n",
      "                                                                  'max_pooling2d_7[0][0]']        \n",
      "                                                                                                  \n",
      " flatten_7 (Flatten)            (None, 18432)        0           ['attention_7[0][0]']            \n",
      "                                                                                                  \n",
      " dense_18 (Dense)               (None, 64)           1179712     ['flatten_7[0][0]']              \n",
      "                                                                                                  \n",
      "==================================================================================================\n",
      "Total params: 1,189,633\n",
      "Trainable params: 1,189,505\n",
      "Non-trainable params: 128\n",
      "__________________________________________________________________________________________________\n"
     ]
    }
   ],
   "source": [
    "cnn_attention = create_image_feature_extractor()\n",
    "cnn_attention.summary()"
   ]
  },
  {
   "cell_type": "code",
   "execution_count": 57,
   "id": "09c5056c",
   "metadata": {
    "execution": {
     "iopub.execute_input": "2023-09-14T14:57:51.609977Z",
     "iopub.status.busy": "2023-09-14T14:57:51.609633Z",
     "iopub.status.idle": "2023-09-14T14:57:51.618381Z",
     "shell.execute_reply": "2023-09-14T14:57:51.617405Z"
    },
    "papermill": {
     "duration": 0.09684,
     "end_time": "2023-09-14T14:57:51.620424",
     "exception": false,
     "start_time": "2023-09-14T14:57:51.523584",
     "status": "completed"
    },
    "tags": []
   },
   "outputs": [],
   "source": [
    "def visual_attention_model():\n",
    "    model = Sequential()\n",
    "    \n",
    "    img_fe = create_image_feature_extractor()\n",
    "    \n",
    "    model.add(img_fe)\n",
    "    model.add(Dense(1, activation = 'sigmoid'))\n",
    "    \n",
    "    return model\n",
    "\n",
    "def multimodal_attention_model():\n",
    "    input_image = Input(shape=(224, 224, 3))\n",
    "    input_text = Input(shape = (50), dtype='int64')  \n",
    "\n",
    "    img_fe = create_image_feature_extractor()\n",
    "    text_fe = text_feature_extractor()\n",
    "\n",
    "    image_features = img_fe(input_image)\n",
    "    text_features = text_fe(input_text)\n",
    "    \n",
    "    merged_features = concatenate([image_features, text_features])\n",
    "\n",
    "    output = Dense(1, activation='sigmoid')(merged_features)\n",
    "\n",
    "    multimodal_model = Model(inputs=[input_image, input_text], outputs=output)\n",
    "\n",
    "    return multimodal_model\n",
    "\n",
    "def semantic_attention_model():\n",
    "    \n",
    "    model = Sequential()\n",
    "    \n",
    "    text_fe = text_feature_extractor()\n",
    "    \n",
    "    model.add(text_fe)\n",
    "    model.add(Dense(1, activation = 'sigmoid'))\n",
    "    \n",
    "    return model"
   ]
  },
  {
   "cell_type": "code",
   "execution_count": 31,
   "id": "7a4b8b19",
   "metadata": {},
   "outputs": [],
   "source": [
    "# Ensure the directory for saving model checkpoints exists\n",
    "checkpoint_dir_mul = 'C:\\\\Kingsley\\\\multimodia-hatespeech\\\\visual_attn_model'\n",
    "os.makedirs(checkpoint_dir_mul, exist_ok=True)"
   ]
  },
  {
   "cell_type": "code",
   "execution_count": 32,
   "id": "5e0a1feb",
   "metadata": {
    "execution": {
     "iopub.execute_input": "2023-09-14T14:57:51.788995Z",
     "iopub.status.busy": "2023-09-14T14:57:51.788276Z",
     "iopub.status.idle": "2023-09-14T14:57:51.915197Z",
     "shell.execute_reply": "2023-09-14T14:57:51.914252Z"
    },
    "papermill": {
     "duration": 0.213674,
     "end_time": "2023-09-14T14:57:51.917482",
     "exception": false,
     "start_time": "2023-09-14T14:57:51.703808",
     "status": "completed"
    },
    "tags": []
   },
   "outputs": [],
   "source": [
    "visual_attention_model = visual_attention_model()\n",
    "\n",
    "es = EarlyStopping(monitor = 'val_loss', patience = 5, restore_best_weights = True)\n",
    "\n",
    "ckpt = ModelCheckpoint(\n",
    "    filepath=os.path.join(checkpoint_dir_mul, 'best_modelversion22base.h5'),  # Filepath to save the model weights.\n",
    "    monitor='val_loss',  \n",
    "    save_best_only=True, \n",
    "    save_weights_only=True,  \n",
    "    mode='min',  \n",
    "    verbose=1  \n",
    ")\n",
    "visual_attention_model.compile(loss = 'binary_crossentropy', optimizer = 'adam', metrics=['accuracy'])"
   ]
  },
  {
   "cell_type": "code",
   "execution_count": 174,
   "id": "07a9cb3d",
   "metadata": {},
   "outputs": [],
   "source": [
    "visual_attention_model.save_weights('visual_model_weights_v2.h5')"
   ]
  },
  {
   "cell_type": "code",
   "execution_count": 35,
   "id": "6772a093",
   "metadata": {
    "execution": {
     "iopub.execute_input": "2023-09-14T14:57:52.264518Z",
     "iopub.status.busy": "2023-09-14T14:57:52.263677Z",
     "iopub.status.idle": "2023-09-14T16:59:05.019385Z",
     "shell.execute_reply": "2023-09-14T16:59:05.018428Z"
    },
    "papermill": {
     "duration": 7275.306305,
     "end_time": "2023-09-14T16:59:07.485609",
     "exception": false,
     "start_time": "2023-09-14T14:57:52.179304",
     "status": "completed"
    },
    "tags": []
   },
   "outputs": [
    {
     "name": "stderr",
     "output_type": "stream",
     "text": [
      "100%|██████████| 134823/134823 [00:00<00:00, 219321.66it/s]\n"
     ]
    },
    {
     "name": "stdout",
     "output_type": "stream",
     "text": [
      "134823\n",
      "Epoch 1/10\n",
      "4213/4213 [==============================] - ETA: 0s - loss: 0.0493 - accuracy: 0.9979"
     ]
    },
    {
     "name": "stderr",
     "output_type": "stream",
     "text": [
      "100%|██████████| 5000/5000 [00:00<00:00, 192133.10it/s]\n"
     ]
    },
    {
     "name": "stdout",
     "output_type": "stream",
     "text": [
      "5000\n",
      "\n",
      "Epoch 1: val_loss improved from inf to 6.51464, saving model to C:\\Kingsley\\multimodia-hatespeech\\visual_attn_model\\best_modelversion22.h5\n",
      "4213/4213 [==============================] - 543s 128ms/step - loss: 0.0493 - accuracy: 0.9979 - val_loss: 6.5146 - val_accuracy: 0.6486\n",
      "Epoch 2/10\n",
      "4213/4213 [==============================] - ETA: 0s - loss: 1.3940e-07 - accuracy: 1.0000\n",
      "Epoch 2: val_loss improved from 6.51464 to 6.46746, saving model to C:\\Kingsley\\multimodia-hatespeech\\visual_attn_model\\best_modelversion22.h5\n",
      "4213/4213 [==============================] - 531s 126ms/step - loss: 1.3940e-07 - accuracy: 1.0000 - val_loss: 6.4675 - val_accuracy: 0.6368\n",
      "Epoch 3/10\n",
      "4213/4213 [==============================] - ETA: 0s - loss: 4.0739e-08 - accuracy: 1.0000\n",
      "Epoch 3: val_loss did not improve from 6.46746\n",
      "4213/4213 [==============================] - 544s 129ms/step - loss: 4.0739e-08 - accuracy: 1.0000 - val_loss: 6.5042 - val_accuracy: 0.6446\n",
      "Epoch 4/10\n",
      "4213/4213 [==============================] - ETA: 0s - loss: 5.5679e-09 - accuracy: 1.0000\n",
      "Epoch 4: val_loss did not improve from 6.46746\n",
      "4213/4213 [==============================] - 559s 133ms/step - loss: 5.5679e-09 - accuracy: 1.0000 - val_loss: 6.6485 - val_accuracy: 0.6480\n",
      "Epoch 5/10\n",
      "4213/4213 [==============================] - ETA: 0s - loss: 0.0781 - accuracy: 0.9978\n",
      "Epoch 5: val_loss improved from 6.46746 to 4.76929, saving model to C:\\Kingsley\\multimodia-hatespeech\\visual_attn_model\\best_modelversion22.h5\n",
      "4213/4213 [==============================] - 560s 133ms/step - loss: 0.0781 - accuracy: 0.9978 - val_loss: 4.7693 - val_accuracy: 0.6569\n",
      "Epoch 6/10\n",
      "4213/4213 [==============================] - ETA: 0s - loss: 0.0037 - accuracy: 0.9992\n",
      "Epoch 6: val_loss improved from 4.76929 to 4.76153, saving model to C:\\Kingsley\\multimodia-hatespeech\\visual_attn_model\\best_modelversion22.h5\n",
      "4213/4213 [==============================] - 557s 132ms/step - loss: 0.0037 - accuracy: 0.9992 - val_loss: 4.7615 - val_accuracy: 0.6565\n",
      "Epoch 7/10\n",
      "4213/4213 [==============================] - ETA: 0s - loss: 4.3782e-07 - accuracy: 1.0000\n",
      "Epoch 7: val_loss did not improve from 4.76153\n",
      "4213/4213 [==============================] - 536s 127ms/step - loss: 4.3782e-07 - accuracy: 1.0000 - val_loss: 5.1895 - val_accuracy: 0.6719\n",
      "Epoch 8/10\n",
      "4213/4213 [==============================] - ETA: 0s - loss: 5.4992e-08 - accuracy: 1.0000\n",
      "Epoch 8: val_loss did not improve from 4.76153\n",
      "4213/4213 [==============================] - 535s 127ms/step - loss: 5.4992e-08 - accuracy: 1.0000 - val_loss: 5.6683 - val_accuracy: 0.6679\n",
      "Epoch 9/10\n",
      "4213/4213 [==============================] - ETA: 0s - loss: 6.7545e-09 - accuracy: 1.0000\n",
      "Epoch 9: val_loss did not improve from 4.76153\n",
      "4213/4213 [==============================] - 536s 127ms/step - loss: 6.7545e-09 - accuracy: 1.0000 - val_loss: 6.1555 - val_accuracy: 0.6757\n",
      "Epoch 10/10\n",
      "4213/4213 [==============================] - ETA: 0s - loss: 1.7781e-09 - accuracy: 1.0000\n",
      "Epoch 10: val_loss did not improve from 4.76153\n",
      "4213/4213 [==============================] - 547s 130ms/step - loss: 1.7781e-09 - accuracy: 1.0000 - val_loss: 6.5793 - val_accuracy: 0.6797\n"
     ]
    }
   ],
   "source": [
    "epochs = 10\n",
    "\n",
    "steps_per_epoch = len(train_ids)//32\n",
    "val_steps = len(val_ids)//32\n",
    "\n",
    "# Training data loader\n",
    "train_data_loader = load_data(train_ids, mode = 'img')  # Replace with your data loader function\n",
    "\n",
    "# Validation data loader\n",
    "val_data_loader = load_data(val_ids, mode = 'img')  # Replace with your validation data loader function\n",
    "\n",
    "#Test Data Loader\n",
    "\n",
    "test_data_loader = load_data(test_ids, mode = 'img')\n",
    "\n",
    "\n",
    "# Train the model using model.fit\n",
    "history = visual_attention_model.fit(\n",
    "    train_data_loader,\n",
    "    epochs=epochs,\n",
    "    steps_per_epoch=steps_per_epoch,\n",
    "    validation_data=val_data_loader,\n",
    "    validation_steps=val_steps,\n",
    "    callbacks=[es, ckpt]\n",
    ")\n",
    "\n"
   ]
  },
  {
   "cell_type": "code",
   "execution_count": 36,
   "id": "b810a5ef",
   "metadata": {
    "execution": {
     "iopub.execute_input": "2023-09-14T16:59:12.568610Z",
     "iopub.status.busy": "2023-09-14T16:59:12.568180Z",
     "iopub.status.idle": "2023-09-14T16:59:42.144383Z",
     "shell.execute_reply": "2023-09-14T16:59:42.143330Z"
    },
    "papermill": {
     "duration": 32.120193,
     "end_time": "2023-09-14T16:59:42.147028",
     "exception": false,
     "start_time": "2023-09-14T16:59:10.026835",
     "status": "completed"
    },
    "tags": []
   },
   "outputs": [
    {
     "name": "stdout",
     "output_type": "stream",
     "text": [
      "156/156 [==============================] - 16s 103ms/step - loss: 6.5793 - accuracy: 0.6797\n"
     ]
    },
    {
     "data": {
      "text/plain": [
       "[6.579327583312988, 0.6796875]"
      ]
     },
     "execution_count": 36,
     "metadata": {},
     "output_type": "execute_result"
    }
   ],
   "source": [
    "visual_attention_model.evaluate(val_data_loader, steps = len(val_ids)//32)\n",
    "# print(len(val_ids))"
   ]
  },
  {
   "cell_type": "code",
   "execution_count": 37,
   "id": "2679c729",
   "metadata": {
    "execution": {
     "iopub.execute_input": "2023-09-14T16:59:47.250680Z",
     "iopub.status.busy": "2023-09-14T16:59:47.250180Z",
     "iopub.status.idle": "2023-09-14T17:00:55.365318Z",
     "shell.execute_reply": "2023-09-14T17:00:55.364265Z"
    },
    "papermill": {
     "duration": 70.599572,
     "end_time": "2023-09-14T17:00:55.368050",
     "exception": false,
     "start_time": "2023-09-14T16:59:44.768478",
     "status": "completed"
    },
    "tags": []
   },
   "outputs": [
    {
     "name": "stderr",
     "output_type": "stream",
     "text": [
      "100%|██████████| 10000/10000 [00:00<00:00, 218875.12it/s]\n"
     ]
    },
    {
     "name": "stdout",
     "output_type": "stream",
     "text": [
      "10000\n",
      "312/312 [==============================] - 34s 110ms/step - loss: 6.6650 - accuracy: 0.7031\n"
     ]
    },
    {
     "data": {
      "text/plain": [
       "[6.66496467590332, 0.703125]"
      ]
     },
     "execution_count": 37,
     "metadata": {},
     "output_type": "execute_result"
    }
   ],
   "source": [
    "visual_attention_model.evaluate(test_data_loader, steps = len(test_ids)//32)"
   ]
  },
  {
   "cell_type": "code",
   "execution_count": 183,
   "id": "72d33001",
   "metadata": {},
   "outputs": [],
   "source": [
    "#save the model\n",
    "visual_attention_model.save('C:\\\\Kingsley\\\\multimodia-hatespeech\\\\visual_attn_model\\\\best_modelversion22v2.h5')\n"
   ]
  },
  {
   "cell_type": "code",
   "execution_count": 33,
   "id": "7300b7c1",
   "metadata": {},
   "outputs": [
    {
     "name": "stderr",
     "output_type": "stream",
     "text": [
      "100%|██████████| 134823/134823 [00:00<00:00, 203637.62it/s]\n"
     ]
    },
    {
     "name": "stdout",
     "output_type": "stream",
     "text": [
      "134823\n",
      "Epoch 1/10\n",
      "4213/4213 [==============================] - ETA: 0s - loss: 0.0692 - accuracy: 0.9977"
     ]
    },
    {
     "name": "stderr",
     "output_type": "stream",
     "text": [
      "100%|██████████| 5000/5000 [00:00<00:00, 199816.30it/s]\n"
     ]
    },
    {
     "name": "stdout",
     "output_type": "stream",
     "text": [
      "5000\n",
      "\n",
      "Epoch 1: val_loss improved from inf to 7.32711, saving model to C:\\Kingsley\\multimodia-hatespeech\\visual_attn_model\\best_modelversion22base.h5\n",
      "4213/4213 [==============================] - 603s 142ms/step - loss: 0.0692 - accuracy: 0.9977 - val_loss: 7.3271 - val_accuracy: 0.6569\n",
      "Epoch 2/10\n",
      "4213/4213 [==============================] - ETA: 0s - loss: 0.0887 - accuracy: 0.9981\n",
      "Epoch 2: val_loss improved from 7.32711 to 6.69024, saving model to C:\\Kingsley\\multimodia-hatespeech\\visual_attn_model\\best_modelversion22base.h5\n",
      "4213/4213 [==============================] - 592s 141ms/step - loss: 0.0887 - accuracy: 0.9981 - val_loss: 6.6902 - val_accuracy: 0.6490\n",
      "Epoch 3/10\n",
      "4213/4213 [==============================] - ETA: 0s - loss: 1.8067e-06 - accuracy: 1.0000\n",
      "Epoch 3: val_loss did not improve from 6.69024\n",
      "4213/4213 [==============================] - 592s 140ms/step - loss: 1.8067e-06 - accuracy: 1.0000 - val_loss: 6.9437 - val_accuracy: 0.6609\n",
      "Epoch 4/10\n",
      "4213/4213 [==============================] - ETA: 0s - loss: 2.6975e-07 - accuracy: 1.0000\n",
      "Epoch 4: val_loss did not improve from 6.69024\n",
      "4213/4213 [==============================] - 799s 190ms/step - loss: 2.6975e-07 - accuracy: 1.0000 - val_loss: 7.3206 - val_accuracy: 0.6605\n",
      "Epoch 5/10\n",
      "4213/4213 [==============================] - ETA: 0s - loss: 3.4017e-08 - accuracy: 1.0000\n",
      "Epoch 5: val_loss did not improve from 6.69024\n",
      "4213/4213 [==============================] - 704s 167ms/step - loss: 3.4017e-08 - accuracy: 1.0000 - val_loss: 7.7797 - val_accuracy: 0.6567\n",
      "Epoch 6/10\n",
      "4213/4213 [==============================] - ETA: 0s - loss: 4.8562e-09 - accuracy: 1.0000\n",
      "Epoch 6: val_loss did not improve from 6.69024\n",
      "4213/4213 [==============================] - 761s 181ms/step - loss: 4.8562e-09 - accuracy: 1.0000 - val_loss: 8.2323 - val_accuracy: 0.6526\n",
      "Epoch 7/10\n",
      "4213/4213 [==============================] - ETA: 0s - loss: 2.1659e-09 - accuracy: 1.0000\n",
      "Epoch 7: val_loss did not improve from 6.69024\n",
      "4213/4213 [==============================] - 774s 184ms/step - loss: 2.1659e-09 - accuracy: 1.0000 - val_loss: 8.6215 - val_accuracy: 0.6605\n"
     ]
    }
   ],
   "source": [
    "epochs = 10\n",
    "\n",
    "steps_per_epoch = len(train_ids)//32\n",
    "val_steps = len(val_ids)//32\n",
    "\n",
    "# Training data loader\n",
    "train_data_loader = load_data(train_ids, mode = 'img')  # Replace with your data loader function\n",
    "\n",
    "# Validation data loader\n",
    "val_data_loader = load_data(val_ids, mode = 'img')  # Replace with your validation data loader function\n",
    "\n",
    "#Test Data Loader\n",
    "\n",
    "test_data_loader = load_data(test_ids, mode = 'img')\n",
    "\n",
    "\n",
    "# Train the model using model.fit\n",
    "history = visual_attention_model.fit(\n",
    "    train_data_loader,\n",
    "    epochs=epochs,\n",
    "    steps_per_epoch=steps_per_epoch,\n",
    "    validation_data=val_data_loader,\n",
    "    validation_steps=val_steps,\n",
    "    callbacks=[es, ckpt]\n",
    ")\n",
    "\n"
   ]
  },
  {
   "cell_type": "code",
   "execution_count": 34,
   "id": "18526ca6",
   "metadata": {},
   "outputs": [
    {
     "name": "stdout",
     "output_type": "stream",
     "text": [
      "156/156 [==============================] - 28s 178ms/step - loss: 6.6902 - accuracy: 0.6490\n"
     ]
    },
    {
     "data": {
      "text/plain": [
       "[6.690237045288086, 0.6490384340286255]"
      ]
     },
     "execution_count": 34,
     "metadata": {},
     "output_type": "execute_result"
    }
   ],
   "source": [
    "visual_attention_model.evaluate(val_data_loader, steps = len(val_ids)//32)\n",
    "# print(len(val_ids))"
   ]
  },
  {
   "cell_type": "code",
   "execution_count": 35,
   "id": "18dd8ef5",
   "metadata": {},
   "outputs": [
    {
     "name": "stderr",
     "output_type": "stream",
     "text": [
      "100%|██████████| 10000/10000 [00:00<00:00, 195901.23it/s]\n"
     ]
    },
    {
     "name": "stdout",
     "output_type": "stream",
     "text": [
      "10000\n",
      "312/312 [==============================] - 52s 168ms/step - loss: 7.2554 - accuracy: 0.6406\n"
     ]
    },
    {
     "data": {
      "text/plain": [
       "[7.255431175231934, 0.640625]"
      ]
     },
     "execution_count": 35,
     "metadata": {},
     "output_type": "execute_result"
    }
   ],
   "source": [
    "visual_attention_model.evaluate(test_data_loader, steps = len(test_ids)//32)"
   ]
  },
  {
   "cell_type": "code",
   "execution_count": 36,
   "id": "ea1f3820",
   "metadata": {},
   "outputs": [],
   "source": [
    "#save the model\n",
    "visual_attention_model.save('C:\\\\Kingsley\\\\multimodia-hatespeech\\\\visual_attn_model\\\\best_modelversion22v2base.h5')\n"
   ]
  },
  {
   "cell_type": "code",
   "execution_count": 37,
   "id": "44c40344",
   "metadata": {},
   "outputs": [
    {
     "data": {
      "text/plain": [
       "<matplotlib.legend.Legend at 0x1fe7f4ff730>"
      ]
     },
     "execution_count": 37,
     "metadata": {},
     "output_type": "execute_result"
    },
    {
     "data": {
      "image/png": "[encoded data removed]",
      "text/plain": [
       "<Figure size 1200x400 with 2 Axes>"
      ]
     },
     "metadata": {},
     "output_type": "display_data"
    }
   ],
   "source": [
    "plt.figure(figsize=(12, 4))\n",
    "plt.subplot(1, 2, 1)\n",
    "plt.plot(history.history['loss'], label='train_loss')\n",
    "plt.plot(history.history['val_loss'], label='val_loss')\n",
    "plt.title('Training and Validation Loss')\n",
    "plt.xlabel('Epochs')\n",
    "plt.ylabel('Loss')\n",
    "plt.legend()\n",
    "\n",
    "# Plotting training & validation accuracy\n",
    "plt.subplot(1, 2, 2)\n",
    "plt.plot(history.history['accuracy'], label='train_accuracy')\n",
    "plt.plot(history.history['val_accuracy'], label='val_accuracy')\n",
    "plt.title('Training and Validation Accuracy')\n",
    "plt.xlabel('Epochs')\n",
    "plt.ylabel('Accuracy')\n",
    "plt.legend()"
   ]
  },
  {
   "cell_type": "code",
   "execution_count": 38,
   "id": "74521f43",
   "metadata": {},
   "outputs": [],
   "source": [
    "# Ensure the directory for saving model checkpoints exists\n",
    "checkpoint_dir_mul = 'C:\\\\Kingsley\\\\multimodia-hatespeech\\\\semantic_attention_model'\n",
    "os.makedirs(checkpoint_dir_mul, exist_ok=True)"
   ]
  },
  {
   "cell_type": "code",
   "execution_count": 39,
   "id": "b2ce1fe8",
   "metadata": {
    "execution": {
     "iopub.execute_input": "2023-09-14T17:01:00.793354Z",
     "iopub.status.busy": "2023-09-14T17:01:00.792978Z",
     "iopub.status.idle": "2023-09-14T17:01:04.723233Z",
     "shell.execute_reply": "2023-09-14T17:01:04.722154Z"
    },
    "papermill": {
     "duration": 6.394194,
     "end_time": "2023-09-14T17:01:04.726057",
     "exception": false,
     "start_time": "2023-09-14T17:00:58.331863",
     "status": "completed"
    },
    "tags": []
   },
   "outputs": [],
   "source": [
    "semantic_attention_model = semantic_attention_model()\n",
    "\n",
    "es = EarlyStopping(monitor = 'val_loss', patience = 5, restore_best_weights = True)\n",
    "\n",
    "ckpt = ModelCheckpoint(\n",
    "    filepath=os.path.join(checkpoint_dir_mul, 'best_modelversion22base.h5'),  # Filepath to save the model weights.\n",
    "    monitor='val_loss',  \n",
    "    save_best_only=True, \n",
    "    save_weights_only=True,  \n",
    "    mode='min',  \n",
    "    verbose=1  \n",
    ")\n",
    "semantic_attention_model.compile(loss = 'binary_crossentropy', optimizer = 'adam', metrics = ['accuracy'])"
   ]
  },
  {
   "cell_type": "code",
   "execution_count": 177,
   "id": "5650e27c",
   "metadata": {},
   "outputs": [],
   "source": [
    "semantic_attention_model.save_weights('semantic_model_weights_v2.h5')"
   ]
  },
  {
   "cell_type": "code",
   "execution_count": 40,
   "id": "68def8e5",
   "metadata": {
    "execution": {
     "iopub.execute_input": "2023-09-14T17:01:09.612445Z",
     "iopub.status.busy": "2023-09-14T17:01:09.612051Z",
     "iopub.status.idle": "2023-09-14T19:33:49.241379Z",
     "shell.execute_reply": "2023-09-14T19:33:49.240366Z"
    },
    "papermill": {
     "duration": 9162.018156,
     "end_time": "2023-09-14T19:33:49.243662",
     "exception": false,
     "start_time": "2023-09-14T17:01:07.225506",
     "status": "completed"
    },
    "tags": []
   },
   "outputs": [
    {
     "name": "stderr",
     "output_type": "stream",
     "text": [
      "100%|██████████| 134823/134823 [00:00<00:00, 216327.71it/s]\n"
     ]
    },
    {
     "name": "stdout",
     "output_type": "stream",
     "text": [
      "134823\n",
      "Epoch 1/10\n",
      "4213/4213 [==============================] - ETA: 0s - loss: 0.3357 - accuracy: 0.8506"
     ]
    },
    {
     "name": "stderr",
     "output_type": "stream",
     "text": [
      "100%|██████████| 5000/5000 [00:00<00:00, 213733.39it/s]\n"
     ]
    },
    {
     "name": "stdout",
     "output_type": "stream",
     "text": [
      "5000\n",
      "\n",
      "Epoch 1: val_loss improved from inf to 0.66987, saving model to C:\\Kingsley\\multimodia-hatespeech\\semantic_attention_model\\best_modelversion22.h5\n",
      "4213/4213 [==============================] - 549s 129ms/step - loss: 0.3357 - accuracy: 0.8506 - val_loss: 0.6699 - val_accuracy: 0.7612\n",
      "Epoch 2/10\n",
      "4213/4213 [==============================] - ETA: 0s - loss: 0.3198 - accuracy: 0.8526\n",
      "Epoch 2: val_loss did not improve from 0.66987\n",
      "4213/4213 [==============================] - 549s 130ms/step - loss: 0.3198 - accuracy: 0.8526 - val_loss: 2.5921 - val_accuracy: 0.3169\n",
      "Epoch 3/10\n",
      "4213/4213 [==============================] - ETA: 0s - loss: 0.3153 - accuracy: 0.8548\n",
      "Epoch 3: val_loss did not improve from 0.66987\n",
      "4213/4213 [==============================] - 550s 131ms/step - loss: 0.3153 - accuracy: 0.8548 - val_loss: 1.5312 - val_accuracy: 0.2927\n",
      "Epoch 4/10\n",
      "4213/4213 [==============================] - ETA: 0s - loss: 0.3165 - accuracy: 0.8543\n",
      "Epoch 4: val_loss did not improve from 0.66987\n",
      "4213/4213 [==============================] - 549s 130ms/step - loss: 0.3165 - accuracy: 0.8543 - val_loss: 1.4204 - val_accuracy: 0.3343\n",
      "Epoch 5/10\n",
      "4213/4213 [==============================] - ETA: 0s - loss: 0.3595 - accuracy: 0.8423\n",
      "Epoch 5: val_loss did not improve from 0.66987\n",
      "4213/4213 [==============================] - 552s 131ms/step - loss: 0.3595 - accuracy: 0.8423 - val_loss: 1.7251 - val_accuracy: 0.7614\n",
      "Epoch 6/10\n",
      "4213/4213 [==============================] - ETA: 0s - loss: 0.3757 - accuracy: 0.8217\n",
      "Epoch 6: val_loss did not improve from 0.66987\n",
      "4213/4213 [==============================] - 554s 132ms/step - loss: 0.3757 - accuracy: 0.8217 - val_loss: 1.2134 - val_accuracy: 0.7141\n"
     ]
    }
   ],
   "source": [
    "epochs = 10\n",
    "\n",
    "steps_per_epoch = len(train_ids)//32\n",
    "val_steps = len(val_ids)//32\n",
    "\n",
    "#Training data loader\n",
    "train_data_loader = load_data(train_ids, mode = 'text')  # Replace with your data loader function\n",
    "\n",
    "# Validation data loader\n",
    "val_data_loader = load_data(val_ids, mode = 'text')  # Replace with your validation data loader function\n",
    "\n",
    "test_data_loader = load_data(test_ids, mode = 'text')\n",
    "\n",
    "# semantic_attention_model.load_weights('/kaggle/input/lstm-modelh5/best_model.h5')\n",
    "\n",
    "# Train the model using model.fit\n",
    "history = semantic_attention_model.fit(\n",
    "    train_data_loader,\n",
    "    epochs=epochs,\n",
    "    steps_per_epoch=steps_per_epoch,\n",
    "    validation_data=val_data_loader,\n",
    "    validation_steps=val_steps,\n",
    "    callbacks=[es, ckpt]\n",
    ")\n"
   ]
  },
  {
   "cell_type": "code",
   "execution_count": 41,
   "id": "59f9c8e9",
   "metadata": {
    "execution": {
     "iopub.execute_input": "2023-09-14T19:34:00.481941Z",
     "iopub.status.busy": "2023-09-14T19:34:00.481567Z",
     "iopub.status.idle": "2023-09-14T19:35:20.129411Z",
     "shell.execute_reply": "2023-09-14T19:35:20.128398Z"
    },
    "papermill": {
     "duration": 85.150457,
     "end_time": "2023-09-14T19:35:20.131719",
     "exception": false,
     "start_time": "2023-09-14T19:33:54.981262",
     "status": "completed"
    },
    "tags": []
   },
   "outputs": [
    {
     "name": "stdout",
     "output_type": "stream",
     "text": [
      "156/156 [==============================] - 17s 107ms/step - loss: 0.6699 - accuracy: 0.7612\n"
     ]
    },
    {
     "data": {
      "text/plain": [
       "[0.6698742508888245, 0.7612179517745972]"
      ]
     },
     "execution_count": 41,
     "metadata": {},
     "output_type": "execute_result"
    }
   ],
   "source": [
    "semantic_attention_model.evaluate(val_data_loader, steps = len(val_ids)//32)\n",
    "# print(len(val_ids))"
   ]
  },
  {
   "cell_type": "code",
   "execution_count": 42,
   "id": "cbf534ba",
   "metadata": {
    "execution": {
     "iopub.execute_input": "2023-09-14T19:35:31.430825Z",
     "iopub.status.busy": "2023-09-14T19:35:31.430441Z",
     "iopub.status.idle": "2023-09-14T19:36:32.484746Z",
     "shell.execute_reply": "2023-09-14T19:36:32.483685Z"
    },
    "papermill": {
     "duration": 71.721834,
     "end_time": "2023-09-14T19:36:37.628897",
     "exception": false,
     "start_time": "2023-09-14T19:35:25.907063",
     "status": "completed"
    },
    "tags": []
   },
   "outputs": [
    {
     "name": "stderr",
     "output_type": "stream",
     "text": [
      "  0%|          | 0/10000 [00:00<?, ?it/s]"
     ]
    },
    {
     "name": "stderr",
     "output_type": "stream",
     "text": [
      "100%|██████████| 10000/10000 [00:00<00:00, 200950.73it/s]\n"
     ]
    },
    {
     "name": "stdout",
     "output_type": "stream",
     "text": [
      "10000\n",
      "312/312 [==============================] - 34s 108ms/step - loss: 0.7857 - accuracy: 0.8008\n"
     ]
    },
    {
     "data": {
      "text/plain": [
       "[0.7857232689857483, 0.80078125]"
      ]
     },
     "execution_count": 42,
     "metadata": {},
     "output_type": "execute_result"
    }
   ],
   "source": [
    "semantic_attention_model.evaluate(test_data_loader, steps = len(test_ids)//32)"
   ]
  },
  {
   "cell_type": "code",
   "execution_count": 40,
   "id": "1c9b90fa",
   "metadata": {},
   "outputs": [
    {
     "name": "stderr",
     "output_type": "stream",
     "text": [
      "100%|██████████| 134823/134823 [00:00<00:00, 192609.98it/s]\n"
     ]
    },
    {
     "name": "stdout",
     "output_type": "stream",
     "text": [
      "134823\n",
      "Epoch 1/10\n",
      "4213/4213 [==============================] - ETA: 0s - loss: 0.3304 - accuracy: 0.8503"
     ]
    },
    {
     "name": "stderr",
     "output_type": "stream",
     "text": [
      "100%|██████████| 5000/5000 [00:00<00:00, 199825.82it/s]\n"
     ]
    },
    {
     "name": "stdout",
     "output_type": "stream",
     "text": [
      "5000\n",
      "\n",
      "Epoch 1: val_loss improved from inf to 0.59498, saving model to C:\\Kingsley\\multimodia-hatespeech\\semantic_attention_model\\best_modelversion22base.h5\n",
      "4213/4213 [==============================] - 698s 164ms/step - loss: 0.3304 - accuracy: 0.8503 - val_loss: 0.5950 - val_accuracy: 0.7534\n",
      "Epoch 2/10\n",
      "4213/4213 [==============================] - ETA: 0s - loss: 0.3218 - accuracy: 0.8533\n",
      "Epoch 2: val_loss did not improve from 0.59498\n",
      "4213/4213 [==============================] - 598s 142ms/step - loss: 0.3218 - accuracy: 0.8533 - val_loss: 0.8054 - val_accuracy: 0.7536\n",
      "Epoch 3/10\n",
      "4213/4213 [==============================] - ETA: 0s - loss: 0.3151 - accuracy: 0.8546\n",
      "Epoch 3: val_loss did not improve from 0.59498\n",
      "4213/4213 [==============================] - 594s 141ms/step - loss: 0.3151 - accuracy: 0.8546 - val_loss: 0.8099 - val_accuracy: 0.7498\n",
      "Epoch 4/10\n",
      "4213/4213 [==============================] - ETA: 0s - loss: 0.3148 - accuracy: 0.8546\n",
      "Epoch 4: val_loss did not improve from 0.59498\n",
      "4213/4213 [==============================] - 927s 220ms/step - loss: 0.3148 - accuracy: 0.8546 - val_loss: 1.0293 - val_accuracy: 0.7498\n",
      "Epoch 5/10\n",
      "4213/4213 [==============================] - ETA: 0s - loss: 0.3158 - accuracy: 0.8543\n",
      "Epoch 5: val_loss did not improve from 0.59498\n",
      "4213/4213 [==============================] - 687s 163ms/step - loss: 0.3158 - accuracy: 0.8543 - val_loss: 1.6416 - val_accuracy: 0.7496\n",
      "Epoch 6/10\n",
      "4213/4213 [==============================] - ETA: 0s - loss: 0.3152 - accuracy: 0.8542\n",
      "Epoch 6: val_loss did not improve from 0.59498\n",
      "4213/4213 [==============================] - 655s 155ms/step - loss: 0.3152 - accuracy: 0.8542 - val_loss: 2.0074 - val_accuracy: 0.7496\n"
     ]
    }
   ],
   "source": [
    "epochs = 10\n",
    "\n",
    "steps_per_epoch = len(train_ids)//32\n",
    "val_steps = len(val_ids)//32\n",
    "\n",
    "#Training data loader\n",
    "train_data_loader = load_data(train_ids, mode = 'text')  # Replace with your data loader function\n",
    "\n",
    "# Validation data loader\n",
    "val_data_loader = load_data(val_ids, mode = 'text')  # Replace with your validation data loader function\n",
    "\n",
    "test_data_loader = load_data(test_ids, mode = 'text')\n",
    "\n",
    "# semantic_attention_model.load_weights('/kaggle/input/lstm-modelh5/best_model.h5')\n",
    "\n",
    "# Train the model using model.fit\n",
    "history = semantic_attention_model.fit(\n",
    "    train_data_loader,\n",
    "    epochs=epochs,\n",
    "    steps_per_epoch=steps_per_epoch,\n",
    "    validation_data=val_data_loader,\n",
    "    validation_steps=val_steps,\n",
    "    callbacks=[es, ckpt]\n",
    ")\n"
   ]
  },
  {
   "cell_type": "code",
   "execution_count": 41,
   "id": "8e0e9cd4",
   "metadata": {},
   "outputs": [
    {
     "name": "stdout",
     "output_type": "stream",
     "text": [
      "156/156 [==============================] - 30s 190ms/step - loss: 0.5950 - accuracy: 0.7534\n"
     ]
    },
    {
     "data": {
      "text/plain": [
       "[0.5949798822402954, 0.7534054517745972]"
      ]
     },
     "execution_count": 41,
     "metadata": {},
     "output_type": "execute_result"
    }
   ],
   "source": [
    "semantic_attention_model.evaluate(val_data_loader, steps = len(val_ids)//32)"
   ]
  },
  {
   "cell_type": "code",
   "execution_count": 42,
   "id": "bebf6fd7",
   "metadata": {},
   "outputs": [
    {
     "name": "stderr",
     "output_type": "stream",
     "text": [
      "100%|██████████| 10000/10000 [00:00<00:00, 178827.26it/s]\n"
     ]
    },
    {
     "name": "stdout",
     "output_type": "stream",
     "text": [
      "10000\n",
      "312/312 [==============================] - 57s 183ms/step - loss: 0.6243 - accuracy: 0.8086\n"
     ]
    },
    {
     "data": {
      "text/plain": [
       "[0.6243159770965576, 0.80859375]"
      ]
     },
     "execution_count": 42,
     "metadata": {},
     "output_type": "execute_result"
    }
   ],
   "source": [
    "semantic_attention_model.evaluate(test_data_loader, steps = len(test_ids)//32)"
   ]
  },
  {
   "cell_type": "code",
   "execution_count": 47,
   "id": "3eb7f2f2",
   "metadata": {},
   "outputs": [
    {
     "data": {
      "text/plain": [
       "<matplotlib.legend.Legend at 0x205bcfe4880>"
      ]
     },
     "execution_count": 47,
     "metadata": {},
     "output_type": "execute_result"
    },
    {
     "data": {
      "image/png": "[encoded data removed]",
      "text/plain": [
       "<Figure size 1200x400 with 2 Axes>"
      ]
     },
     "metadata": {},
     "output_type": "display_data"
    }
   ],
   "source": [
    "plt.figure(figsize=(12, 4))\n",
    "plt.subplot(1, 2, 1)\n",
    "plt.plot(history.history['loss'], label='train_loss')\n",
    "plt.plot(history.history['val_loss'], label='val_loss')\n",
    "plt.title('Training and Validation Loss')\n",
    "plt.xlabel('Epochs')\n",
    "plt.ylabel('Loss')\n",
    "plt.legend()\n",
    "\n",
    "# Plotting training & validation accuracy\n",
    "plt.subplot(1, 2, 2)\n",
    "plt.plot(history.history['accuracy'], label='train_accuracy')\n",
    "plt.plot(history.history['val_accuracy'], label='val_accuracy')\n",
    "plt.title('Training and Validation Accuracy')\n",
    "plt.xlabel('Epochs')\n",
    "plt.ylabel('Accuracy')\n",
    "plt.legend()"
   ]
  },
  {
   "cell_type": "code",
   "execution_count": 48,
   "id": "ec63f598",
   "metadata": {},
   "outputs": [],
   "source": [
    "# save individual models\n",
    "\n",
    "semantic_attention_model.save('C:\\\\Kingsley\\\\multimodia-hatespeech\\\\semantic_attention_model\\\\best_modelversion22_v2base.h5')\n"
   ]
  },
  {
   "cell_type": "code",
   "execution_count": 49,
   "id": "c156c246",
   "metadata": {},
   "outputs": [],
   "source": [
    "# Ensure the directory for saving model checkpoints exists\n",
    "checkpoint_dir_mul = 'C:\\\\Kingsley\\\\multimodia-hatespeech\\\\multimodal_attention_model'\n",
    "os.makedirs(checkpoint_dir_mul, exist_ok=True)"
   ]
  },
  {
   "cell_type": "code",
   "execution_count": 58,
   "id": "000c7124",
   "metadata": {
    "execution": {
     "iopub.execute_input": "2023-09-14T19:36:48.756242Z",
     "iopub.status.busy": "2023-09-14T19:36:48.755872Z",
     "iopub.status.idle": "2023-09-14T19:36:52.143743Z",
     "shell.execute_reply": "2023-09-14T19:36:52.142354Z"
    },
    "papermill": {
     "duration": 9.005226,
     "end_time": "2023-09-14T19:36:52.147794",
     "exception": false,
     "start_time": "2023-09-14T19:36:43.142568",
     "status": "completed"
    },
    "tags": []
   },
   "outputs": [],
   "source": [
    "multimodal_attention_model = multimodal_attention_model()\n",
    "\n",
    "es = EarlyStopping(monitor = 'val_loss', patience = 5, restore_best_weights = True)\n",
    "\n",
    "ckpt = ModelCheckpoint(\n",
    "    filepath=os.path.join(checkpoint_dir_mul, 'best_modelversion22base.h5'),  # Filepath to save the model weights.\n",
    "    monitor='val_loss',  \n",
    "    save_best_only=True, \n",
    "    save_weights_only=True,  \n",
    "    mode='min',  \n",
    "    verbose=1  \n",
    ")\n",
    "multimodal_attention_model.compile(loss = 'binary_crossentropy', optimizer = 'adam', metrics = ['accuracy'])"
   ]
  },
  {
   "cell_type": "code",
   "execution_count": 180,
   "id": "19d14a2a",
   "metadata": {},
   "outputs": [],
   "source": [
    "multimodal_attention_model.save_weights('multimodal_model_weights_v2.h5')"
   ]
  },
  {
   "cell_type": "code",
   "execution_count": 45,
   "id": "26c62f0c",
   "metadata": {},
   "outputs": [
    {
     "name": "stderr",
     "output_type": "stream",
     "text": [
      "100%|██████████| 134823/134823 [00:00<00:00, 208846.42it/s]\n"
     ]
    },
    {
     "name": "stdout",
     "output_type": "stream",
     "text": [
      "134823\n",
      "Epoch 1/10\n",
      "4213/4213 [==============================] - ETA: 0s - loss: 0.0376 - accuracy: 0.9978"
     ]
    },
    {
     "name": "stderr",
     "output_type": "stream",
     "text": [
      "100%|██████████| 5000/5000 [00:00<00:00, 227988.48it/s]\n"
     ]
    },
    {
     "name": "stdout",
     "output_type": "stream",
     "text": [
      "5000\n",
      "\n",
      "Epoch 1: val_loss improved from inf to 5.48460, saving model to C:\\Kingsley\\multimodia-hatespeech\\multimodal_attention_model\\best_modelversion22.h5\n",
      "4213/4213 [==============================] - 567s 133ms/step - loss: 0.0376 - accuracy: 0.9978 - val_loss: 5.4846 - val_accuracy: 0.6450\n",
      "Epoch 2/10\n",
      "4213/4213 [==============================] - ETA: 0s - loss: 0.0539 - accuracy: 0.9974\n",
      "Epoch 2: val_loss improved from 5.48460 to 4.17348, saving model to C:\\Kingsley\\multimodia-hatespeech\\multimodal_attention_model\\best_modelversion22.h5\n",
      "4213/4213 [==============================] - 563s 134ms/step - loss: 0.0539 - accuracy: 0.9974 - val_loss: 4.1735 - val_accuracy: 0.6560\n",
      "Epoch 3/10\n",
      "4213/4213 [==============================] - ETA: 0s - loss: 0.0058 - accuracy: 0.9988\n",
      "Epoch 3: val_loss did not improve from 4.17348\n",
      "4213/4213 [==============================] - 564s 134ms/step - loss: 0.0058 - accuracy: 0.9988 - val_loss: 4.7592 - val_accuracy: 0.6254\n",
      "Epoch 4/10\n",
      "4213/4213 [==============================] - ETA: 0s - loss: 2.0620e-06 - accuracy: 1.0000\n",
      "Epoch 4: val_loss did not improve from 4.17348\n",
      "4213/4213 [==============================] - 564s 134ms/step - loss: 2.0620e-06 - accuracy: 1.0000 - val_loss: 5.3939 - val_accuracy: 0.6058\n",
      "Epoch 5/10\n",
      "4213/4213 [==============================] - ETA: 0s - loss: 8.3516e-08 - accuracy: 1.0000\n",
      "Epoch 5: val_loss did not improve from 4.17348\n",
      "4213/4213 [==============================] - 568s 135ms/step - loss: 8.3516e-08 - accuracy: 1.0000 - val_loss: 5.8126 - val_accuracy: 0.6138\n",
      "Epoch 6/10\n",
      "4213/4213 [==============================] - ETA: 0s - loss: 1.1500e-08 - accuracy: 1.0000\n",
      "Epoch 6: val_loss did not improve from 4.17348\n",
      "4213/4213 [==============================] - 568s 135ms/step - loss: 1.1500e-08 - accuracy: 1.0000 - val_loss: 6.3015 - val_accuracy: 0.6178\n",
      "Epoch 7/10\n",
      "4213/4213 [==============================] - ETA: 0s - loss: 2.6544e-09 - accuracy: 1.0000\n",
      "Epoch 7: val_loss did not improve from 4.17348\n",
      "4213/4213 [==============================] - 561s 133ms/step - loss: 2.6544e-09 - accuracy: 1.0000 - val_loss: 6.7187 - val_accuracy: 0.6296\n"
     ]
    }
   ],
   "source": [
    "epochs = 10\n",
    "\n",
    "steps_per_epoch = len(train_ids)//32\n",
    "val_steps = len(val_ids)//32\n",
    "\n",
    "# Training data loader\n",
    "train_data_loader = load_data(train_ids, mode = 'both')  \n",
    "\n",
    "# Validation data loader\n",
    "val_data_loader = load_data(val_ids, mode = 'both') \n",
    "\n",
    "test_data_loader = load_data(test_ids, mode = 'both')\n",
    "\n",
    "# Train the model using model.fit\n",
    "history = multimodal_attention_model.fit(\n",
    "    train_data_loader,\n",
    "    epochs=epochs,\n",
    "    steps_per_epoch=steps_per_epoch,\n",
    "    validation_data=val_data_loader,\n",
    "    validation_steps=val_steps,\n",
    "    callbacks=[es, ckpt]\n",
    ")\n",
    "\n",
    "# multimodal_attention_model.load_weights('/kaggle/working/multimodal_attn_model_ckpts/best_mm_model.h5')"
   ]
  },
  {
   "cell_type": "code",
   "execution_count": null,
   "id": "01ea4ee3",
   "metadata": {
    "execution": {
     "iopub.execute_input": "2023-09-14T19:37:03.959185Z",
     "iopub.status.busy": "2023-09-14T19:37:03.958801Z",
     "iopub.status.idle": "2023-09-14T21:23:17.359438Z",
     "shell.execute_reply": "2023-09-14T21:23:17.358493Z"
    },
    "papermill": {
     "duration": 6378.934429,
     "end_time": "2023-09-14T21:23:17.361702",
     "exception": false,
     "start_time": "2023-09-14T19:36:58.427273",
     "status": "completed"
    },
    "tags": []
   },
   "outputs": [
    {
     "name": "stderr",
     "output_type": "stream",
     "text": [
      "100%|██████████| 134823/134823 [00:00<00:00, 214169.17it/s]\n"
     ]
    },
    {
     "name": "stdout",
     "output_type": "stream",
     "text": [
      "134823\n",
      "Epoch 1/50\n",
      "4213/4213 [==============================] - ETA: 0s - loss: 0.0507 - accuracy: 0.9966"
     ]
    },
    {
     "name": "stderr",
     "output_type": "stream",
     "text": [
      "100%|██████████| 5000/5000 [00:00<00:00, 95196.14it/s]\n"
     ]
    },
    {
     "name": "stdout",
     "output_type": "stream",
     "text": [
      "5000\n",
      "\n",
      "Epoch 1: val_loss improved from inf to 3.77449, saving model to /kaggle/working/multimodal_attn_model_ckpts/best_mm_model.h5\n",
      "4213/4213 [==============================] - 1069s 251ms/step - loss: 0.0507 - accuracy: 0.9966 - val_loss: 3.7745 - val_accuracy: 0.6360\n",
      "Epoch 2/50\n",
      "4213/4213 [==============================] - ETA: 0s - loss: 0.0468 - accuracy: 0.9973\n",
      "Epoch 2: val_loss did not improve from 3.77449\n",
      "4213/4213 [==============================] - 1054s 250ms/step - loss: 0.0468 - accuracy: 0.9973 - val_loss: 4.4889 - val_accuracy: 0.6324\n",
      "Epoch 3/50\n",
      "4213/4213 [==============================] - ETA: 0s - loss: 6.3738e-06 - accuracy: 1.0000\n",
      "Epoch 3: val_loss did not improve from 3.77449\n",
      "4213/4213 [==============================] - 1049s 249ms/step - loss: 6.3738e-06 - accuracy: 1.0000 - val_loss: 5.2322 - val_accuracy: 0.6244\n",
      "Epoch 4/50\n",
      "4213/4213 [==============================] - ETA: 0s - loss: 4.6840e-07 - accuracy: 1.0000\n",
      "Epoch 4: val_loss did not improve from 3.77449\n",
      "4213/4213 [==============================] - 1054s 250ms/step - loss: 4.6840e-07 - accuracy: 1.0000 - val_loss: 5.9616 - val_accuracy: 0.6284\n",
      "Epoch 5/50\n",
      "4213/4213 [==============================] - ETA: 0s - loss: 5.1008e-08 - accuracy: 1.0000\n",
      "Epoch 5: val_loss did not improve from 3.77449\n",
      "4213/4213 [==============================] - 1069s 254ms/step - loss: 5.1008e-08 - accuracy: 1.0000 - val_loss: 6.6582 - val_accuracy: 0.6284\n",
      "Epoch 6/50\n",
      "4213/4213 [==============================] - ETA: 0s - loss: 6.8203e-09 - accuracy: 1.0000\n",
      "Epoch 6: val_loss did not improve from 3.77449\n",
      "4213/4213 [==============================] - 1077s 256ms/step - loss: 6.8203e-09 - accuracy: 1.0000 - val_loss: 7.2049 - val_accuracy: 0.6326\n"
     ]
    }
   ],
   "source": [
    "epochs = 50\n",
    "\n",
    "steps_per_epoch = len(train_ids)//32\n",
    "val_steps = len(val_ids)//32\n",
    "\n",
    "# Training data loader\n",
    "train_data_loader = load_data(train_ids, mode = 'both')  \n",
    "\n",
    "# Validation data loader\n",
    "val_data_loader = load_data(val_ids, mode = 'both') \n",
    "\n",
    "test_data_loader = load_data(test_ids, mode = 'both')\n",
    "\n",
    "# Train the model using model.fit\n",
    "history = multimodal_attention_model.fit(\n",
    "    train_data_loader,\n",
    "    epochs=epochs,\n",
    "    steps_per_epoch=steps_per_epoch,\n",
    "    validation_data=val_data_loader,\n",
    "    validation_steps=val_steps,\n",
    "    callbacks=[es, ckpt]\n",
    ")\n",
    "\n",
    "# multimodal_attention_model.load_weights('/kaggle/working/multimodal_attn_model_ckpts/best_mm_model.h5')"
   ]
  },
  {
   "cell_type": "code",
   "execution_count": 130,
   "id": "a36d8dae",
   "metadata": {
    "execution": {
     "iopub.execute_input": "2023-09-14T21:23:32.845007Z",
     "iopub.status.busy": "2023-09-14T21:23:32.844609Z",
     "iopub.status.idle": "2023-09-14T21:24:14.049251Z",
     "shell.execute_reply": "2023-09-14T21:24:14.048308Z"
    },
    "papermill": {
     "duration": 48.977995,
     "end_time": "2023-09-14T21:24:14.051391",
     "exception": false,
     "start_time": "2023-09-14T21:23:25.073396",
     "status": "completed"
    },
    "tags": []
   },
   "outputs": [
    {
     "name": "stdout",
     "output_type": "stream",
     "text": [
      "156/156 [==============================] - 17s 112ms/step - loss: 4.6268 - accuracy: 0.6795\n"
     ]
    },
    {
     "data": {
      "text/plain": [
       "[4.626843452453613, 0.6794871687889099]"
      ]
     },
     "execution_count": 130,
     "metadata": {},
     "output_type": "execute_result"
    }
   ],
   "source": [
    "multimodal_attention_model.evaluate(val_data_loader, steps = len(val_ids)//32)\n",
    "# print(len(val_ids))"
   ]
  },
  {
   "cell_type": "code",
   "execution_count": 131,
   "id": "fbd4f574",
   "metadata": {
    "execution": {
     "iopub.execute_input": "2023-09-14T21:24:29.369103Z",
     "iopub.status.busy": "2023-09-14T21:24:29.368710Z",
     "iopub.status.idle": "2023-09-14T21:25:52.352551Z",
     "shell.execute_reply": "2023-09-14T21:25:52.351380Z"
    },
    "papermill": {
     "duration": 90.650254,
     "end_time": "2023-09-14T21:25:52.355283",
     "exception": false,
     "start_time": "2023-09-14T21:24:21.705029",
     "status": "completed"
    },
    "tags": []
   },
   "outputs": [
    {
     "name": "stderr",
     "output_type": "stream",
     "text": [
      "100%|██████████| 10000/10000 [00:00<00:00, 212576.48it/s]\n"
     ]
    },
    {
     "name": "stdout",
     "output_type": "stream",
     "text": [
      "10000\n",
      "312/312 [==============================] - 37s 117ms/step - loss: 3.7669 - accuracy: 0.7031\n"
     ]
    },
    {
     "data": {
      "text/plain": [
       "[3.766915798187256, 0.703125]"
      ]
     },
     "execution_count": 131,
     "metadata": {},
     "output_type": "execute_result"
    }
   ],
   "source": [
    "multimodal_attention_model.evaluate(test_data_loader, steps = len(test_ids)//32)"
   ]
  },
  {
   "cell_type": "code",
   "execution_count": 50,
   "id": "737a47b7",
   "metadata": {},
   "outputs": [
    {
     "data": {
      "text/plain": [
       "<matplotlib.legend.Legend at 0x223046f70a0>"
      ]
     },
     "execution_count": 50,
     "metadata": {},
     "output_type": "execute_result"
    },
    {
     "data": {
      "image/png": "[encoded data removed]",
      "text/plain": [
       "<Figure size 1200x400 with 2 Axes>"
      ]
     },
     "metadata": {},
     "output_type": "display_data"
    }
   ],
   "source": [
    "plt.figure(figsize=(12, 4))\n",
    "plt.subplot(1, 2, 1)\n",
    "plt.plot(history.history['loss'], label='train_loss')\n",
    "plt.plot(history.history['val_loss'], label='val_loss')\n",
    "plt.title('Training and Validation Loss')\n",
    "plt.xlabel('Epochs')\n",
    "plt.ylabel('Loss')\n",
    "plt.legend()\n",
    "\n",
    "# Plotting training & validation accuracy\n",
    "plt.subplot(1, 2, 2)\n",
    "plt.plot(history.history['accuracy'], label='train_accuracy')\n",
    "plt.plot(history.history['val_accuracy'], label='val_accuracy')\n",
    "plt.title('Training and Validation Accuracy')\n",
    "plt.xlabel('Epochs')\n",
    "plt.ylabel('Accuracy')\n",
    "plt.legend()"
   ]
  },
  {
   "cell_type": "code",
   "execution_count": 59,
   "id": "79d2500c",
   "metadata": {},
   "outputs": [
    {
     "name": "stderr",
     "output_type": "stream",
     "text": [
      "100%|██████████| 134823/134823 [00:00<00:00, 204031.59it/s]\n"
     ]
    },
    {
     "name": "stdout",
     "output_type": "stream",
     "text": [
      "134823\n",
      "Epoch 1/10\n",
      "4213/4213 [==============================] - ETA: 0s - loss: 0.0718 - accuracy: 0.9961"
     ]
    },
    {
     "name": "stderr",
     "output_type": "stream",
     "text": [
      "100%|██████████| 5000/5000 [00:00<00:00, 187646.14it/s]\n"
     ]
    },
    {
     "name": "stdout",
     "output_type": "stream",
     "text": [
      "5000\n",
      "\n",
      "Epoch 1: val_loss improved from inf to 9.76452, saving model to C:\\Kingsley\\multimodia-hatespeech\\multimodal_attention_model\\best_modelversion22base.h5\n",
      "4213/4213 [==============================] - 844s 197ms/step - loss: 0.0718 - accuracy: 0.9961 - val_loss: 9.7645 - val_accuracy: 0.6601\n",
      "Epoch 2/10\n",
      "4213/4213 [==============================] - ETA: 0s - loss: 0.0391 - accuracy: 0.9976\n",
      "Epoch 2: val_loss improved from 9.76452 to 4.20155, saving model to C:\\Kingsley\\multimodia-hatespeech\\multimodal_attention_model\\best_modelversion22base.h5\n",
      "4213/4213 [==============================] - 801s 190ms/step - loss: 0.0391 - accuracy: 0.9976 - val_loss: 4.2015 - val_accuracy: 0.6799\n",
      "Epoch 3/10\n",
      "4213/4213 [==============================] - ETA: 0s - loss: 2.9610e-06 - accuracy: 1.0000\n",
      "Epoch 3: val_loss did not improve from 4.20155\n",
      "4213/4213 [==============================] - 656s 156ms/step - loss: 2.9610e-06 - accuracy: 1.0000 - val_loss: 4.8773 - val_accuracy: 0.6761\n",
      "Epoch 4/10\n",
      "4213/4213 [==============================] - ETA: 0s - loss: 2.8744e-07 - accuracy: 1.0000\n",
      "Epoch 4: val_loss did not improve from 4.20155\n",
      "4213/4213 [==============================] - 807s 192ms/step - loss: 2.8744e-07 - accuracy: 1.0000 - val_loss: 5.4866 - val_accuracy: 0.6723\n",
      "Epoch 5/10\n",
      "4213/4213 [==============================] - ETA: 0s - loss: 3.1014e-08 - accuracy: 1.0000\n",
      "Epoch 5: val_loss did not improve from 4.20155\n",
      "4213/4213 [==============================] - 966s 229ms/step - loss: 3.1014e-08 - accuracy: 1.0000 - val_loss: 6.0690 - val_accuracy: 0.6761\n",
      "Epoch 6/10\n",
      "4213/4213 [==============================] - ETA: 0s - loss: 4.5914e-09 - accuracy: 1.0000\n",
      "Epoch 6: val_loss did not improve from 4.20155\n",
      "4213/4213 [==============================] - 677s 161ms/step - loss: 4.5914e-09 - accuracy: 1.0000 - val_loss: 6.5594 - val_accuracy: 0.6801\n",
      "Epoch 7/10\n",
      "4213/4213 [==============================] - ETA: 0s - loss: 2.2586e-09 - accuracy: 1.0000\n",
      "Epoch 7: val_loss did not improve from 4.20155\n",
      "4213/4213 [==============================] - 642s 152ms/step - loss: 2.2586e-09 - accuracy: 1.0000 - val_loss: 6.9815 - val_accuracy: 0.6877\n"
     ]
    }
   ],
   "source": [
    "epochs = 10\n",
    "\n",
    "steps_per_epoch = len(train_ids)//32\n",
    "val_steps = len(val_ids)//32\n",
    "\n",
    "# Training data loader\n",
    "train_data_loader = load_data(train_ids, mode = 'both')  \n",
    "\n",
    "# Validation data loader\n",
    "val_data_loader = load_data(val_ids, mode = 'both') \n",
    "\n",
    "test_data_loader = load_data(test_ids, mode = 'both')\n",
    "\n",
    "# Train the model using model.fit\n",
    "history = multimodal_attention_model.fit(\n",
    "    train_data_loader,\n",
    "    epochs=epochs,\n",
    "    steps_per_epoch=steps_per_epoch,\n",
    "    validation_data=val_data_loader,\n",
    "    validation_steps=val_steps,\n",
    "    callbacks=[es, ckpt]\n",
    ")\n",
    "\n",
    "# multimodal_attention_model.load_weights('/kaggle/working/multimodal_attn_model_ckpts/best_mm_model.h5')"
   ]
  },
  {
   "cell_type": "code",
   "execution_count": 60,
   "id": "b7399001",
   "metadata": {},
   "outputs": [
    {
     "name": "stdout",
     "output_type": "stream",
     "text": [
      "156/156 [==============================] - 19s 121ms/step - loss: 4.2015 - accuracy: 0.6799\n"
     ]
    },
    {
     "data": {
      "text/plain": [
       "[4.2015485763549805, 0.6798878312110901]"
      ]
     },
     "execution_count": 60,
     "metadata": {},
     "output_type": "execute_result"
    }
   ],
   "source": [
    "multimodal_attention_model.evaluate(val_data_loader, steps = len(val_ids)//32)\n",
    "# print(len(val_ids))"
   ]
  },
  {
   "cell_type": "code",
   "execution_count": 61,
   "id": "64d79089",
   "metadata": {},
   "outputs": [
    {
     "name": "stderr",
     "output_type": "stream",
     "text": [
      "100%|██████████| 10000/10000 [00:00<00:00, 129751.78it/s]\n"
     ]
    },
    {
     "name": "stdout",
     "output_type": "stream",
     "text": [
      "10000\n",
      "312/312 [==============================] - 40s 130ms/step - loss: 4.2677 - accuracy: 0.6836\n"
     ]
    },
    {
     "data": {
      "text/plain": [
       "[4.267696857452393, 0.68359375]"
      ]
     },
     "execution_count": 61,
     "metadata": {},
     "output_type": "execute_result"
    }
   ],
   "source": [
    "multimodal_attention_model.evaluate(test_data_loader, steps = len(test_ids)//32)"
   ]
  },
  {
   "cell_type": "code",
   "execution_count": 64,
   "id": "e1109a53",
   "metadata": {},
   "outputs": [
    {
     "data": {
      "text/plain": [
       "<matplotlib.legend.Legend at 0x2055f6a1d50>"
      ]
     },
     "execution_count": 64,
     "metadata": {},
     "output_type": "execute_result"
    },
    {
     "data": {
      "image/png": "[encoded data removed]",
      "text/plain": [
       "<Figure size 1200x400 with 2 Axes>"
      ]
     },
     "metadata": {},
     "output_type": "display_data"
    }
   ],
   "source": [
    "plt.figure(figsize=(12, 4))\n",
    "plt.subplot(1, 2, 1)\n",
    "plt.plot(history.history['loss'], label='train_loss')\n",
    "plt.plot(history.history['val_loss'], label='val_loss')\n",
    "plt.title('Training and Validation Loss')\n",
    "plt.xlabel('Epochs')\n",
    "plt.ylabel('Loss')\n",
    "plt.legend()\n",
    "\n",
    "# Plotting training & validation accuracy\n",
    "plt.subplot(1, 2, 2)\n",
    "plt.plot(history.history['accuracy'], label='train_accuracy')\n",
    "plt.plot(history.history['val_accuracy'], label='val_accuracy')\n",
    "plt.title('Training and Validation Accuracy')\n",
    "plt.xlabel('Epochs')\n",
    "plt.ylabel('Accuracy')\n",
    "plt.legend()"
   ]
  },
  {
   "cell_type": "code",
   "execution_count": 63,
   "id": "7c2b2b19",
   "metadata": {},
   "outputs": [],
   "source": [
    "# save  models\n",
    "multimodal_attention_model.save('C:\\\\Kingsley\\\\multimodia-hatespeech\\\\multimodal_attention_model\\\\best_modelversion22base.h5')"
   ]
  },
  {
   "cell_type": "code",
   "execution_count": 46,
   "id": "646534d9",
   "metadata": {
    "execution": {
     "iopub.execute_input": "2023-09-14T21:26:07.898784Z",
     "iopub.status.busy": "2023-09-14T21:26:07.898393Z",
     "iopub.status.idle": "2023-09-14T21:26:07.905449Z",
     "shell.execute_reply": "2023-09-14T21:26:07.904399Z"
    },
    "papermill": {
     "duration": 7.792744,
     "end_time": "2023-09-14T21:26:07.907248",
     "exception": false,
     "start_time": "2023-09-14T21:26:00.114504",
     "status": "completed"
    },
    "tags": []
   },
   "outputs": [],
   "source": [
    "def combine_predictions(predictions_list):\n",
    "    \n",
    "    num_samples = len(predictions_list[0])  # Assuming all models have the same number of samples\n",
    "    combined_predictions = []\n",
    "\n",
    "    for i in range(num_samples):\n",
    "        # Extract predictions for the i-th sample from all models\n",
    "        sample_predictions = [model_predictions[i] for model_predictions in predictions_list]\n",
    "\n",
    "        # Count the number of 1s and 0s\n",
    "        num_ones = np.sum(sample_predictions)\n",
    "        num_zeros = len(sample_predictions) - num_ones\n",
    "\n",
    "        # Determine the majority vote\n",
    "        if num_ones > num_zeros:\n",
    "            combined_predictions.append(1)\n",
    "        else:\n",
    "            combined_predictions.append(0)\n",
    "\n",
    "    return combined_predictions\n"
   ]
  },
  {
   "cell_type": "code",
   "execution_count": 47,
   "id": "f54f09f9",
   "metadata": {
    "execution": {
     "iopub.execute_input": "2023-09-14T21:26:23.882714Z",
     "iopub.status.busy": "2023-09-14T21:26:23.882290Z",
     "iopub.status.idle": "2023-09-14T21:28:32.698321Z",
     "shell.execute_reply": "2023-09-14T21:28:32.697328Z"
    },
    "papermill": {
     "duration": 136.954744,
     "end_time": "2023-09-14T21:28:32.700501",
     "exception": false,
     "start_time": "2023-09-14T21:26:15.745757",
     "status": "completed"
    },
    "tags": []
   },
   "outputs": [
    {
     "name": "stderr",
     "output_type": "stream",
     "text": [
      "  0%|          | 0/10000 [00:00<?, ?it/s]"
     ]
    },
    {
     "name": "stderr",
     "output_type": "stream",
     "text": [
      "100%|██████████| 10000/10000 [00:00<00:00, 212574.32it/s]\n"
     ]
    },
    {
     "name": "stdout",
     "output_type": "stream",
     "text": [
      "10000\n",
      "1/1 [==============================] - 0s 89ms/step\n",
      "1/1 [==============================] - 1s 1s/step\n",
      "1/1 [==============================] - 1s 1s/step\n",
      "1/1 [==============================] - 0s 17ms/step\n",
      "1/1 [==============================] - 0s 22ms/step\n",
      "1/1 [==============================] - 0s 27ms/step\n",
      "1/1 [==============================] - 0s 17ms/step\n",
      "1/1 [==============================] - 0s 23ms/step\n",
      "1/1 [==============================] - 0s 30ms/step\n",
      "1/1 [==============================] - 0s 17ms/step\n",
      "1/1 [==============================] - 0s 22ms/step\n",
      "1/1 [==============================] - 0s 27ms/step\n",
      "1/1 [==============================] - 0s 17ms/step\n",
      "1/1 [==============================] - 0s 22ms/step\n",
      "1/1 [==============================] - 0s 27ms/step\n",
      "1/1 [==============================] - 0s 17ms/step\n",
      "1/1 [==============================] - 0s 23ms/step\n",
      "1/1 [==============================] - 0s 28ms/step\n",
      "1/1 [==============================] - 0s 17ms/step\n",
      "1/1 [==============================] - 0s 21ms/step\n",
      "1/1 [==============================] - 0s 27ms/step\n",
      "1/1 [==============================] - 0s 16ms/step\n",
      "1/1 [==============================] - 0s 22ms/step\n",
      "1/1 [==============================] - 0s 27ms/step\n",
      "1/1 [==============================] - 0s 17ms/step\n",
      "1/1 [==============================] - 0s 22ms/step\n",
      "1/1 [==============================] - 0s 28ms/step\n",
      "1/1 [==============================] - 0s 17ms/step\n",
      "1/1 [==============================] - 0s 22ms/step\n",
      "1/1 [==============================] - 0s 27ms/step\n",
      "1/1 [==============================] - 0s 16ms/step\n",
      "1/1 [==============================] - 0s 22ms/step\n",
      "1/1 [==============================] - 0s 31ms/step\n",
      "1/1 [==============================] - 0s 17ms/step\n",
      "1/1 [==============================] - 0s 22ms/step\n",
      "1/1 [==============================] - 0s 27ms/step\n",
      "1/1 [==============================] - 0s 17ms/step\n",
      "1/1 [==============================] - 0s 23ms/step\n",
      "1/1 [==============================] - 0s 27ms/step\n",
      "1/1 [==============================] - 0s 17ms/step\n",
      "1/1 [==============================] - 0s 22ms/step\n",
      "1/1 [==============================] - 0s 27ms/step\n",
      "1/1 [==============================] - 0s 16ms/step\n",
      "1/1 [==============================] - 0s 22ms/step\n",
      "1/1 [==============================] - 0s 28ms/step\n",
      "1/1 [==============================] - 0s 18ms/step\n",
      "1/1 [==============================] - 0s 22ms/step\n",
      "1/1 [==============================] - 0s 27ms/step\n",
      "1/1 [==============================] - 0s 16ms/step\n",
      "1/1 [==============================] - 0s 22ms/step\n",
      "1/1 [==============================] - 0s 27ms/step\n",
      "1/1 [==============================] - 0s 17ms/step\n",
      "1/1 [==============================] - 0s 22ms/step\n",
      "1/1 [==============================] - 0s 27ms/step\n",
      "1/1 [==============================] - 0s 17ms/step\n",
      "1/1 [==============================] - 0s 23ms/step\n",
      "1/1 [==============================] - 0s 27ms/step\n",
      "1/1 [==============================] - 0s 21ms/step\n",
      "1/1 [==============================] - 0s 23ms/step\n",
      "1/1 [==============================] - 0s 28ms/step\n",
      "1/1 [==============================] - 0s 16ms/step\n",
      "1/1 [==============================] - 0s 22ms/step\n",
      "1/1 [==============================] - 0s 27ms/step\n",
      "1/1 [==============================] - 0s 17ms/step\n",
      "1/1 [==============================] - 0s 22ms/step\n",
      "1/1 [==============================] - 0s 27ms/step\n",
      "1/1 [==============================] - 0s 16ms/step\n",
      "1/1 [==============================] - 0s 22ms/step\n",
      "1/1 [==============================] - 0s 27ms/step\n",
      "1/1 [==============================] - 0s 16ms/step\n",
      "1/1 [==============================] - 0s 25ms/step\n",
      "1/1 [==============================] - 0s 27ms/step\n",
      "1/1 [==============================] - 0s 16ms/step\n",
      "1/1 [==============================] - 0s 23ms/step\n",
      "1/1 [==============================] - 0s 28ms/step\n",
      "1/1 [==============================] - 0s 17ms/step\n",
      "1/1 [==============================] - 0s 22ms/step\n",
      "1/1 [==============================] - 0s 27ms/step\n",
      "1/1 [==============================] - 0s 16ms/step\n",
      "1/1 [==============================] - 0s 22ms/step\n",
      "1/1 [==============================] - 0s 27ms/step\n",
      "1/1 [==============================] - 0s 17ms/step\n",
      "1/1 [==============================] - 0s 23ms/step\n",
      "1/1 [==============================] - 0s 27ms/step\n",
      "1/1 [==============================] - 0s 17ms/step\n",
      "1/1 [==============================] - 0s 22ms/step\n",
      "1/1 [==============================] - 0s 27ms/step\n",
      "1/1 [==============================] - 0s 16ms/step\n",
      "1/1 [==============================] - 0s 22ms/step\n",
      "1/1 [==============================] - 0s 27ms/step\n",
      "1/1 [==============================] - 0s 17ms/step\n",
      "1/1 [==============================] - 0s 21ms/step\n",
      "1/1 [==============================] - 0s 27ms/step\n",
      "1/1 [==============================] - 0s 16ms/step\n",
      "1/1 [==============================] - 0s 22ms/step\n",
      "1/1 [==============================] - 0s 30ms/step\n",
      "1/1 [==============================] - 0s 17ms/step\n",
      "1/1 [==============================] - 0s 21ms/step\n",
      "1/1 [==============================] - 0s 26ms/step\n",
      "1/1 [==============================] - 0s 16ms/step\n",
      "1/1 [==============================] - 0s 21ms/step\n",
      "1/1 [==============================] - 0s 27ms/step\n",
      "1/1 [==============================] - 0s 17ms/step\n",
      "1/1 [==============================] - 0s 21ms/step\n",
      "1/1 [==============================] - 0s 28ms/step\n",
      "1/1 [==============================] - 0s 16ms/step\n",
      "1/1 [==============================] - 0s 22ms/step\n",
      "1/1 [==============================] - 0s 26ms/step\n",
      "1/1 [==============================] - 0s 16ms/step\n",
      "1/1 [==============================] - 0s 22ms/step\n",
      "1/1 [==============================] - 0s 27ms/step\n",
      "1/1 [==============================] - 0s 16ms/step\n",
      "1/1 [==============================] - 0s 21ms/step\n",
      "1/1 [==============================] - 0s 26ms/step\n",
      "1/1 [==============================] - 0s 16ms/step\n",
      "1/1 [==============================] - 0s 22ms/step\n",
      "1/1 [==============================] - 0s 27ms/step\n",
      "1/1 [==============================] - 0s 16ms/step\n",
      "1/1 [==============================] - 0s 25ms/step\n",
      "1/1 [==============================] - 0s 30ms/step\n",
      "1/1 [==============================] - 0s 17ms/step\n",
      "1/1 [==============================] - 0s 21ms/step\n",
      "1/1 [==============================] - 0s 26ms/step\n",
      "1/1 [==============================] - 0s 16ms/step\n",
      "1/1 [==============================] - 0s 22ms/step\n",
      "1/1 [==============================] - 0s 27ms/step\n",
      "1/1 [==============================] - 0s 17ms/step\n",
      "1/1 [==============================] - 0s 21ms/step\n",
      "1/1 [==============================] - 0s 27ms/step\n",
      "1/1 [==============================] - 0s 17ms/step\n",
      "1/1 [==============================] - 0s 21ms/step\n",
      "1/1 [==============================] - 0s 27ms/step\n",
      "1/1 [==============================] - 0s 16ms/step\n",
      "1/1 [==============================] - 0s 22ms/step\n",
      "1/1 [==============================] - 0s 27ms/step\n",
      "1/1 [==============================] - 0s 17ms/step\n",
      "1/1 [==============================] - 0s 21ms/step\n",
      "1/1 [==============================] - 0s 27ms/step\n",
      "1/1 [==============================] - 0s 17ms/step\n",
      "1/1 [==============================] - 0s 21ms/step\n",
      "1/1 [==============================] - 0s 27ms/step\n",
      "1/1 [==============================] - 0s 16ms/step\n",
      "1/1 [==============================] - 0s 22ms/step\n",
      "1/1 [==============================] - 0s 26ms/step\n",
      "1/1 [==============================] - 0s 20ms/step\n",
      "1/1 [==============================] - 0s 22ms/step\n",
      "1/1 [==============================] - 0s 26ms/step\n",
      "1/1 [==============================] - 0s 16ms/step\n",
      "1/1 [==============================] - 0s 21ms/step\n",
      "1/1 [==============================] - 0s 27ms/step\n",
      "1/1 [==============================] - 0s 16ms/step\n",
      "1/1 [==============================] - 0s 21ms/step\n",
      "1/1 [==============================] - 0s 27ms/step\n",
      "1/1 [==============================] - 0s 16ms/step\n",
      "1/1 [==============================] - 0s 22ms/step\n",
      "1/1 [==============================] - 0s 27ms/step\n",
      "1/1 [==============================] - 0s 17ms/step\n",
      "1/1 [==============================] - 0s 24ms/step\n",
      "1/1 [==============================] - 0s 26ms/step\n",
      "1/1 [==============================] - 0s 16ms/step\n",
      "1/1 [==============================] - 0s 22ms/step\n",
      "1/1 [==============================] - 0s 26ms/step\n",
      "1/1 [==============================] - 0s 17ms/step\n",
      "1/1 [==============================] - 0s 23ms/step\n",
      "1/1 [==============================] - 0s 27ms/step\n",
      "1/1 [==============================] - 0s 17ms/step\n",
      "1/1 [==============================] - 0s 22ms/step\n",
      "1/1 [==============================] - 0s 27ms/step\n",
      "1/1 [==============================] - 0s 18ms/step\n",
      "1/1 [==============================] - 0s 21ms/step\n",
      "1/1 [==============================] - 0s 27ms/step\n",
      "1/1 [==============================] - 0s 17ms/step\n",
      "1/1 [==============================] - 0s 21ms/step\n",
      "1/1 [==============================] - 0s 27ms/step\n",
      "1/1 [==============================] - 0s 17ms/step\n",
      "1/1 [==============================] - 0s 22ms/step\n",
      "1/1 [==============================] - 0s 26ms/step\n",
      "1/1 [==============================] - 0s 17ms/step\n",
      "1/1 [==============================] - 0s 22ms/step\n",
      "1/1 [==============================] - 0s 27ms/step\n",
      "1/1 [==============================] - 0s 16ms/step\n",
      "1/1 [==============================] - 0s 22ms/step\n",
      "1/1 [==============================] - 0s 28ms/step\n",
      "1/1 [==============================] - 0s 16ms/step\n",
      "1/1 [==============================] - 0s 22ms/step\n",
      "1/1 [==============================] - 0s 26ms/step\n",
      "1/1 [==============================] - 0s 16ms/step\n",
      "1/1 [==============================] - 0s 21ms/step\n",
      "1/1 [==============================] - 0s 26ms/step\n",
      "1/1 [==============================] - 0s 18ms/step\n",
      "1/1 [==============================] - 0s 22ms/step\n",
      "1/1 [==============================] - 0s 26ms/step\n",
      "1/1 [==============================] - 0s 16ms/step\n",
      "1/1 [==============================] - 0s 21ms/step\n",
      "1/1 [==============================] - 0s 30ms/step\n",
      "1/1 [==============================] - 0s 16ms/step\n",
      "1/1 [==============================] - 0s 21ms/step\n",
      "1/1 [==============================] - 0s 27ms/step\n",
      "1/1 [==============================] - 0s 16ms/step\n",
      "1/1 [==============================] - 0s 21ms/step\n",
      "1/1 [==============================] - 0s 27ms/step\n",
      "1/1 [==============================] - 0s 17ms/step\n",
      "1/1 [==============================] - 0s 22ms/step\n",
      "1/1 [==============================] - 0s 26ms/step\n",
      "1/1 [==============================] - 0s 16ms/step\n",
      "1/1 [==============================] - 0s 22ms/step\n",
      "1/1 [==============================] - 0s 27ms/step\n",
      "1/1 [==============================] - 0s 17ms/step\n",
      "1/1 [==============================] - 0s 21ms/step\n",
      "1/1 [==============================] - 0s 27ms/step\n",
      "1/1 [==============================] - 0s 17ms/step\n",
      "1/1 [==============================] - 0s 22ms/step\n",
      "1/1 [==============================] - 0s 27ms/step\n",
      "1/1 [==============================] - 0s 17ms/step\n",
      "1/1 [==============================] - 0s 21ms/step\n",
      "1/1 [==============================] - 0s 27ms/step\n",
      "1/1 [==============================] - 0s 17ms/step\n",
      "1/1 [==============================] - 0s 22ms/step\n",
      "1/1 [==============================] - 0s 26ms/step\n",
      "1/1 [==============================] - 0s 17ms/step\n",
      "1/1 [==============================] - 0s 21ms/step\n",
      "1/1 [==============================] - 0s 27ms/step\n",
      "1/1 [==============================] - 0s 17ms/step\n",
      "1/1 [==============================] - 0s 22ms/step\n",
      "1/1 [==============================] - 0s 26ms/step\n",
      "1/1 [==============================] - 0s 16ms/step\n",
      "1/1 [==============================] - 0s 22ms/step\n",
      "1/1 [==============================] - 0s 26ms/step\n",
      "1/1 [==============================] - 0s 16ms/step\n",
      "1/1 [==============================] - 0s 21ms/step\n",
      "1/1 [==============================] - 0s 27ms/step\n",
      "1/1 [==============================] - 0s 18ms/step\n",
      "1/1 [==============================] - 0s 21ms/step\n",
      "1/1 [==============================] - 0s 27ms/step\n",
      "1/1 [==============================] - 0s 17ms/step\n",
      "1/1 [==============================] - 0s 22ms/step\n",
      "1/1 [==============================] - 0s 27ms/step\n",
      "1/1 [==============================] - 0s 17ms/step\n",
      "1/1 [==============================] - 0s 21ms/step\n",
      "1/1 [==============================] - 0s 27ms/step\n",
      "1/1 [==============================] - 0s 17ms/step\n",
      "1/1 [==============================] - 0s 22ms/step\n",
      "1/1 [==============================] - 0s 26ms/step\n",
      "1/1 [==============================] - 0s 17ms/step\n",
      "1/1 [==============================] - 0s 22ms/step\n",
      "1/1 [==============================] - 0s 26ms/step\n",
      "1/1 [==============================] - 0s 16ms/step\n",
      "1/1 [==============================] - 0s 21ms/step\n",
      "1/1 [==============================] - 0s 27ms/step\n",
      "1/1 [==============================] - 0s 17ms/step\n",
      "1/1 [==============================] - 0s 22ms/step\n",
      "1/1 [==============================] - 0s 27ms/step\n",
      "1/1 [==============================] - 0s 17ms/step\n",
      "1/1 [==============================] - 0s 22ms/step\n",
      "1/1 [==============================] - 0s 26ms/step\n",
      "1/1 [==============================] - 0s 17ms/step\n",
      "1/1 [==============================] - 0s 22ms/step\n",
      "1/1 [==============================] - 0s 28ms/step\n",
      "1/1 [==============================] - 0s 16ms/step\n",
      "1/1 [==============================] - 0s 22ms/step\n",
      "1/1 [==============================] - 0s 27ms/step\n",
      "1/1 [==============================] - 0s 16ms/step\n",
      "1/1 [==============================] - 0s 23ms/step\n",
      "1/1 [==============================] - 0s 27ms/step\n",
      "1/1 [==============================] - 0s 17ms/step\n",
      "1/1 [==============================] - 0s 22ms/step\n",
      "1/1 [==============================] - 0s 27ms/step\n",
      "1/1 [==============================] - 0s 17ms/step\n",
      "1/1 [==============================] - 0s 22ms/step\n",
      "1/1 [==============================] - 0s 31ms/step\n",
      "1/1 [==============================] - 0s 16ms/step\n",
      "1/1 [==============================] - 0s 22ms/step\n",
      "1/1 [==============================] - 0s 27ms/step\n",
      "1/1 [==============================] - 0s 17ms/step\n",
      "1/1 [==============================] - 0s 22ms/step\n",
      "1/1 [==============================] - 0s 27ms/step\n",
      "1/1 [==============================] - 0s 17ms/step\n",
      "1/1 [==============================] - 0s 22ms/step\n",
      "1/1 [==============================] - 0s 26ms/step\n",
      "1/1 [==============================] - 0s 17ms/step\n",
      "1/1 [==============================] - 0s 22ms/step\n",
      "1/1 [==============================] - 0s 27ms/step\n",
      "1/1 [==============================] - 0s 17ms/step\n",
      "1/1 [==============================] - 0s 21ms/step\n",
      "1/1 [==============================] - 0s 26ms/step\n",
      "1/1 [==============================] - 0s 16ms/step\n",
      "1/1 [==============================] - 0s 21ms/step\n",
      "1/1 [==============================] - 0s 27ms/step\n",
      "1/1 [==============================] - 0s 17ms/step\n",
      "1/1 [==============================] - 0s 21ms/step\n",
      "1/1 [==============================] - 0s 27ms/step\n",
      "1/1 [==============================] - 0s 16ms/step\n",
      "1/1 [==============================] - 0s 22ms/step\n",
      "1/1 [==============================] - 0s 28ms/step\n",
      "1/1 [==============================] - 0s 17ms/step\n",
      "1/1 [==============================] - 0s 21ms/step\n",
      "1/1 [==============================] - 0s 26ms/step\n",
      "1/1 [==============================] - 0s 17ms/step\n",
      "1/1 [==============================] - 0s 21ms/step\n",
      "1/1 [==============================] - 0s 27ms/step\n",
      "1/1 [==============================] - 0s 16ms/step\n",
      "1/1 [==============================] - 0s 22ms/step\n",
      "1/1 [==============================] - 0s 28ms/step\n",
      "1/1 [==============================] - 0s 17ms/step\n",
      "1/1 [==============================] - 0s 22ms/step\n",
      "1/1 [==============================] - 0s 27ms/step\n",
      "1/1 [==============================] - 0s 17ms/step\n",
      "1/1 [==============================] - 0s 22ms/step\n",
      "1/1 [==============================] - 0s 26ms/step\n",
      "1/1 [==============================] - 0s 17ms/step\n",
      "1/1 [==============================] - 0s 21ms/step\n",
      "1/1 [==============================] - 0s 26ms/step\n",
      "1/1 [==============================] - 0s 16ms/step\n",
      "1/1 [==============================] - 0s 22ms/step\n",
      "1/1 [==============================] - 0s 27ms/step\n",
      "1/1 [==============================] - 0s 17ms/step\n",
      "1/1 [==============================] - 0s 22ms/step\n",
      "1/1 [==============================] - 0s 27ms/step\n",
      "1/1 [==============================] - 0s 18ms/step\n",
      "1/1 [==============================] - 0s 22ms/step\n",
      "1/1 [==============================] - 0s 26ms/step\n",
      "1/1 [==============================] - 0s 17ms/step\n",
      "1/1 [==============================] - 0s 22ms/step\n",
      "1/1 [==============================] - 0s 27ms/step\n",
      "1/1 [==============================] - 0s 17ms/step\n",
      "1/1 [==============================] - 0s 21ms/step\n",
      "1/1 [==============================] - 0s 27ms/step\n",
      "1/1 [==============================] - 0s 16ms/step\n",
      "1/1 [==============================] - 0s 25ms/step\n",
      "1/1 [==============================] - 0s 29ms/step\n",
      "1/1 [==============================] - 0s 19ms/step\n",
      "1/1 [==============================] - 0s 22ms/step\n",
      "1/1 [==============================] - 0s 27ms/step\n",
      "1/1 [==============================] - 0s 17ms/step\n",
      "1/1 [==============================] - 0s 22ms/step\n",
      "1/1 [==============================] - 0s 27ms/step\n",
      "1/1 [==============================] - 0s 17ms/step\n",
      "1/1 [==============================] - 0s 22ms/step\n",
      "1/1 [==============================] - 0s 26ms/step\n",
      "1/1 [==============================] - 0s 17ms/step\n",
      "1/1 [==============================] - 0s 22ms/step\n",
      "1/1 [==============================] - 0s 26ms/step\n",
      "1/1 [==============================] - 0s 17ms/step\n",
      "1/1 [==============================] - 0s 23ms/step\n",
      "1/1 [==============================] - 0s 28ms/step\n",
      "1/1 [==============================] - 0s 16ms/step\n",
      "1/1 [==============================] - 0s 21ms/step\n",
      "1/1 [==============================] - 0s 27ms/step\n",
      "1/1 [==============================] - 0s 16ms/step\n",
      "1/1 [==============================] - 0s 22ms/step\n",
      "1/1 [==============================] - 0s 27ms/step\n",
      "1/1 [==============================] - 0s 16ms/step\n",
      "1/1 [==============================] - 0s 22ms/step\n",
      "1/1 [==============================] - 0s 29ms/step\n",
      "1/1 [==============================] - 0s 16ms/step\n",
      "1/1 [==============================] - 0s 22ms/step\n",
      "1/1 [==============================] - 0s 30ms/step\n",
      "1/1 [==============================] - 0s 17ms/step\n",
      "1/1 [==============================] - 0s 22ms/step\n",
      "1/1 [==============================] - 0s 27ms/step\n",
      "1/1 [==============================] - 0s 16ms/step\n",
      "1/1 [==============================] - 0s 22ms/step\n",
      "1/1 [==============================] - 0s 27ms/step\n",
      "1/1 [==============================] - 0s 16ms/step\n",
      "1/1 [==============================] - 0s 21ms/step\n",
      "1/1 [==============================] - 0s 27ms/step\n",
      "1/1 [==============================] - 0s 16ms/step\n",
      "1/1 [==============================] - 0s 21ms/step\n",
      "1/1 [==============================] - 0s 27ms/step\n",
      "1/1 [==============================] - 0s 16ms/step\n",
      "1/1 [==============================] - 0s 21ms/step\n",
      "1/1 [==============================] - 0s 27ms/step\n",
      "1/1 [==============================] - 0s 16ms/step\n",
      "1/1 [==============================] - 0s 21ms/step\n",
      "1/1 [==============================] - 0s 26ms/step\n",
      "1/1 [==============================] - 0s 17ms/step\n",
      "1/1 [==============================] - 0s 23ms/step\n",
      "1/1 [==============================] - 0s 26ms/step\n",
      "1/1 [==============================] - 0s 17ms/step\n",
      "1/1 [==============================] - 0s 22ms/step\n",
      "1/1 [==============================] - 0s 28ms/step\n",
      "1/1 [==============================] - 0s 17ms/step\n",
      "1/1 [==============================] - 0s 21ms/step\n",
      "1/1 [==============================] - 0s 28ms/step\n",
      "1/1 [==============================] - 0s 16ms/step\n",
      "1/1 [==============================] - 0s 22ms/step\n",
      "1/1 [==============================] - 0s 27ms/step\n",
      "1/1 [==============================] - 0s 17ms/step\n",
      "1/1 [==============================] - 0s 21ms/step\n",
      "1/1 [==============================] - 0s 27ms/step\n",
      "1/1 [==============================] - 0s 17ms/step\n",
      "1/1 [==============================] - 0s 22ms/step\n",
      "1/1 [==============================] - 0s 26ms/step\n",
      "1/1 [==============================] - 0s 17ms/step\n",
      "1/1 [==============================] - 0s 22ms/step\n",
      "1/1 [==============================] - 0s 27ms/step\n",
      "1/1 [==============================] - 0s 17ms/step\n",
      "1/1 [==============================] - 0s 22ms/step\n",
      "1/1 [==============================] - 0s 27ms/step\n",
      "1/1 [==============================] - 0s 17ms/step\n",
      "1/1 [==============================] - 0s 22ms/step\n",
      "1/1 [==============================] - 0s 27ms/step\n",
      "1/1 [==============================] - 0s 17ms/step\n",
      "1/1 [==============================] - 0s 21ms/step\n",
      "1/1 [==============================] - 0s 27ms/step\n",
      "1/1 [==============================] - 0s 18ms/step\n",
      "1/1 [==============================] - 0s 23ms/step\n",
      "1/1 [==============================] - 0s 27ms/step\n",
      "1/1 [==============================] - 0s 16ms/step\n",
      "1/1 [==============================] - 0s 21ms/step\n",
      "1/1 [==============================] - 0s 27ms/step\n",
      "1/1 [==============================] - 0s 17ms/step\n",
      "1/1 [==============================] - 0s 22ms/step\n",
      "1/1 [==============================] - 0s 27ms/step\n",
      "1/1 [==============================] - 0s 17ms/step\n",
      "1/1 [==============================] - 0s 22ms/step\n",
      "1/1 [==============================] - 0s 27ms/step\n",
      "1/1 [==============================] - 0s 20ms/step\n",
      "1/1 [==============================] - 0s 22ms/step\n",
      "1/1 [==============================] - 0s 27ms/step\n",
      "1/1 [==============================] - 0s 17ms/step\n",
      "1/1 [==============================] - 0s 23ms/step\n",
      "1/1 [==============================] - 0s 27ms/step\n",
      "1/1 [==============================] - 0s 17ms/step\n",
      "1/1 [==============================] - 0s 22ms/step\n",
      "1/1 [==============================] - 0s 27ms/step\n",
      "1/1 [==============================] - 0s 17ms/step\n",
      "1/1 [==============================] - 0s 21ms/step\n",
      "1/1 [==============================] - 0s 27ms/step\n",
      "1/1 [==============================] - 0s 18ms/step\n",
      "1/1 [==============================] - 0s 23ms/step\n",
      "1/1 [==============================] - 0s 27ms/step\n",
      "1/1 [==============================] - 0s 16ms/step\n",
      "1/1 [==============================] - 0s 22ms/step\n",
      "1/1 [==============================] - 0s 27ms/step\n",
      "1/1 [==============================] - 0s 17ms/step\n",
      "1/1 [==============================] - 0s 22ms/step\n",
      "1/1 [==============================] - 0s 26ms/step\n",
      "1/1 [==============================] - 0s 17ms/step\n",
      "1/1 [==============================] - 0s 21ms/step\n",
      "1/1 [==============================] - 0s 27ms/step\n",
      "1/1 [==============================] - 0s 17ms/step\n",
      "1/1 [==============================] - 0s 22ms/step\n",
      "1/1 [==============================] - 0s 26ms/step\n",
      "1/1 [==============================] - 0s 16ms/step\n",
      "1/1 [==============================] - 0s 22ms/step\n",
      "1/1 [==============================] - 0s 27ms/step\n",
      "1/1 [==============================] - 0s 16ms/step\n",
      "1/1 [==============================] - 0s 21ms/step\n",
      "1/1 [==============================] - 0s 26ms/step\n",
      "1/1 [==============================] - 0s 16ms/step\n",
      "1/1 [==============================] - 0s 21ms/step\n",
      "1/1 [==============================] - 0s 26ms/step\n",
      "1/1 [==============================] - 0s 16ms/step\n",
      "1/1 [==============================] - 0s 22ms/step\n",
      "1/1 [==============================] - 0s 30ms/step\n",
      "1/1 [==============================] - 0s 16ms/step\n",
      "1/1 [==============================] - 0s 21ms/step\n",
      "1/1 [==============================] - 0s 27ms/step\n",
      "1/1 [==============================] - 0s 17ms/step\n",
      "1/1 [==============================] - 0s 21ms/step\n",
      "1/1 [==============================] - 0s 27ms/step\n",
      "1/1 [==============================] - 0s 16ms/step\n",
      "1/1 [==============================] - 0s 22ms/step\n",
      "1/1 [==============================] - 0s 27ms/step\n",
      "1/1 [==============================] - 0s 17ms/step\n",
      "1/1 [==============================] - 0s 21ms/step\n",
      "1/1 [==============================] - 0s 28ms/step\n",
      "1/1 [==============================] - 0s 17ms/step\n",
      "1/1 [==============================] - 0s 21ms/step\n",
      "1/1 [==============================] - 0s 26ms/step\n",
      "1/1 [==============================] - 0s 16ms/step\n",
      "1/1 [==============================] - 0s 22ms/step\n",
      "1/1 [==============================] - 0s 27ms/step\n",
      "1/1 [==============================] - 0s 17ms/step\n",
      "1/1 [==============================] - 0s 22ms/step\n",
      "1/1 [==============================] - 0s 28ms/step\n",
      "1/1 [==============================] - 0s 17ms/step\n",
      "1/1 [==============================] - 0s 21ms/step\n",
      "1/1 [==============================] - 0s 28ms/step\n",
      "1/1 [==============================] - 0s 17ms/step\n",
      "1/1 [==============================] - 0s 21ms/step\n",
      "1/1 [==============================] - 0s 27ms/step\n",
      "1/1 [==============================] - 0s 16ms/step\n",
      "1/1 [==============================] - 0s 22ms/step\n",
      "1/1 [==============================] - 0s 26ms/step\n",
      "1/1 [==============================] - 0s 17ms/step\n",
      "1/1 [==============================] - 0s 22ms/step\n",
      "1/1 [==============================] - 0s 26ms/step\n",
      "1/1 [==============================] - 0s 16ms/step\n",
      "1/1 [==============================] - 0s 22ms/step\n",
      "1/1 [==============================] - 0s 26ms/step\n",
      "1/1 [==============================] - 0s 16ms/step\n",
      "1/1 [==============================] - 0s 23ms/step\n",
      "1/1 [==============================] - 0s 27ms/step\n",
      "1/1 [==============================] - 0s 17ms/step\n",
      "1/1 [==============================] - 0s 22ms/step\n",
      "1/1 [==============================] - 0s 27ms/step\n",
      "1/1 [==============================] - 0s 17ms/step\n",
      "1/1 [==============================] - 0s 22ms/step\n",
      "1/1 [==============================] - 0s 27ms/step\n",
      "1/1 [==============================] - 0s 16ms/step\n",
      "1/1 [==============================] - 0s 22ms/step\n",
      "1/1 [==============================] - 0s 26ms/step\n",
      "1/1 [==============================] - 0s 17ms/step\n",
      "1/1 [==============================] - 0s 22ms/step\n",
      "1/1 [==============================] - 0s 26ms/step\n",
      "1/1 [==============================] - 0s 16ms/step\n",
      "1/1 [==============================] - 0s 22ms/step\n",
      "1/1 [==============================] - 0s 27ms/step\n",
      "1/1 [==============================] - 0s 17ms/step\n",
      "1/1 [==============================] - 0s 22ms/step\n",
      "1/1 [==============================] - 0s 27ms/step\n",
      "1/1 [==============================] - 0s 17ms/step\n",
      "1/1 [==============================] - 0s 21ms/step\n",
      "1/1 [==============================] - 0s 27ms/step\n",
      "1/1 [==============================] - 0s 20ms/step\n",
      "1/1 [==============================] - 0s 21ms/step\n",
      "1/1 [==============================] - 0s 27ms/step\n",
      "1/1 [==============================] - 0s 16ms/step\n",
      "1/1 [==============================] - 0s 21ms/step\n",
      "1/1 [==============================] - 0s 27ms/step\n",
      "1/1 [==============================] - 0s 16ms/step\n",
      "1/1 [==============================] - 0s 22ms/step\n",
      "1/1 [==============================] - 0s 27ms/step\n",
      "1/1 [==============================] - 0s 16ms/step\n",
      "1/1 [==============================] - 0s 22ms/step\n",
      "1/1 [==============================] - 0s 27ms/step\n",
      "1/1 [==============================] - 0s 18ms/step\n",
      "1/1 [==============================] - 0s 22ms/step\n",
      "1/1 [==============================] - 0s 27ms/step\n",
      "1/1 [==============================] - 0s 16ms/step\n",
      "1/1 [==============================] - 0s 22ms/step\n",
      "1/1 [==============================] - 0s 27ms/step\n",
      "1/1 [==============================] - 0s 17ms/step\n",
      "1/1 [==============================] - 0s 22ms/step\n",
      "1/1 [==============================] - 0s 26ms/step\n",
      "1/1 [==============================] - 0s 17ms/step\n",
      "1/1 [==============================] - 0s 22ms/step\n",
      "1/1 [==============================] - 0s 26ms/step\n",
      "1/1 [==============================] - 0s 16ms/step\n",
      "1/1 [==============================] - 0s 22ms/step\n",
      "1/1 [==============================] - 0s 28ms/step\n",
      "1/1 [==============================] - 0s 17ms/step\n",
      "1/1 [==============================] - 0s 22ms/step\n",
      "1/1 [==============================] - 0s 28ms/step\n",
      "1/1 [==============================] - 0s 16ms/step\n",
      "1/1 [==============================] - 0s 23ms/step\n",
      "1/1 [==============================] - 0s 27ms/step\n",
      "1/1 [==============================] - 0s 17ms/step\n",
      "1/1 [==============================] - 0s 22ms/step\n",
      "1/1 [==============================] - 0s 27ms/step\n",
      "1/1 [==============================] - 0s 16ms/step\n",
      "1/1 [==============================] - 0s 21ms/step\n",
      "1/1 [==============================] - 0s 29ms/step\n",
      "1/1 [==============================] - 0s 17ms/step\n",
      "1/1 [==============================] - 0s 22ms/step\n",
      "1/1 [==============================] - 0s 27ms/step\n",
      "1/1 [==============================] - 0s 17ms/step\n",
      "1/1 [==============================] - 0s 22ms/step\n",
      "1/1 [==============================] - 0s 28ms/step\n",
      "1/1 [==============================] - 0s 16ms/step\n",
      "1/1 [==============================] - 0s 22ms/step\n",
      "1/1 [==============================] - 0s 26ms/step\n",
      "1/1 [==============================] - 0s 17ms/step\n",
      "1/1 [==============================] - 0s 21ms/step\n",
      "1/1 [==============================] - 0s 28ms/step\n",
      "1/1 [==============================] - 0s 17ms/step\n",
      "1/1 [==============================] - 0s 22ms/step\n",
      "1/1 [==============================] - 0s 27ms/step\n",
      "1/1 [==============================] - 0s 17ms/step\n",
      "1/1 [==============================] - 0s 22ms/step\n",
      "1/1 [==============================] - 0s 28ms/step\n",
      "1/1 [==============================] - 0s 17ms/step\n",
      "1/1 [==============================] - 0s 21ms/step\n",
      "1/1 [==============================] - 0s 27ms/step\n",
      "1/1 [==============================] - 0s 16ms/step\n",
      "1/1 [==============================] - 0s 21ms/step\n",
      "1/1 [==============================] - 0s 27ms/step\n",
      "1/1 [==============================] - 0s 17ms/step\n",
      "1/1 [==============================] - 0s 23ms/step\n",
      "1/1 [==============================] - 0s 27ms/step\n",
      "1/1 [==============================] - 0s 16ms/step\n",
      "1/1 [==============================] - 0s 21ms/step\n",
      "1/1 [==============================] - 0s 27ms/step\n",
      "1/1 [==============================] - 0s 17ms/step\n",
      "1/1 [==============================] - 0s 22ms/step\n",
      "1/1 [==============================] - 0s 30ms/step\n",
      "1/1 [==============================] - 0s 17ms/step\n",
      "1/1 [==============================] - 0s 23ms/step\n",
      "1/1 [==============================] - 0s 26ms/step\n",
      "1/1 [==============================] - 0s 16ms/step\n",
      "1/1 [==============================] - 0s 23ms/step\n",
      "1/1 [==============================] - 0s 26ms/step\n",
      "1/1 [==============================] - 0s 17ms/step\n",
      "1/1 [==============================] - 0s 22ms/step\n",
      "1/1 [==============================] - 0s 27ms/step\n",
      "1/1 [==============================] - 0s 17ms/step\n",
      "1/1 [==============================] - 0s 23ms/step\n",
      "1/1 [==============================] - 0s 30ms/step\n",
      "1/1 [==============================] - 0s 17ms/step\n",
      "1/1 [==============================] - 0s 22ms/step\n",
      "1/1 [==============================] - 0s 27ms/step\n",
      "1/1 [==============================] - 0s 16ms/step\n",
      "1/1 [==============================] - 0s 22ms/step\n",
      "1/1 [==============================] - 0s 27ms/step\n",
      "1/1 [==============================] - 0s 17ms/step\n",
      "1/1 [==============================] - 0s 22ms/step\n",
      "1/1 [==============================] - 0s 26ms/step\n",
      "1/1 [==============================] - 0s 17ms/step\n",
      "1/1 [==============================] - 0s 22ms/step\n",
      "1/1 [==============================] - 0s 31ms/step\n",
      "1/1 [==============================] - 0s 16ms/step\n",
      "1/1 [==============================] - 0s 22ms/step\n",
      "1/1 [==============================] - 0s 26ms/step\n",
      "1/1 [==============================] - 0s 17ms/step\n",
      "1/1 [==============================] - 0s 22ms/step\n",
      "1/1 [==============================] - 0s 27ms/step\n",
      "1/1 [==============================] - 0s 17ms/step\n",
      "1/1 [==============================] - 0s 22ms/step\n",
      "1/1 [==============================] - 0s 26ms/step\n",
      "1/1 [==============================] - 0s 17ms/step\n",
      "1/1 [==============================] - 0s 25ms/step\n",
      "1/1 [==============================] - 0s 29ms/step\n",
      "1/1 [==============================] - 0s 17ms/step\n",
      "1/1 [==============================] - 0s 22ms/step\n",
      "1/1 [==============================] - 0s 27ms/step\n",
      "1/1 [==============================] - 0s 18ms/step\n",
      "1/1 [==============================] - 0s 22ms/step\n",
      "1/1 [==============================] - 0s 26ms/step\n",
      "1/1 [==============================] - 0s 16ms/step\n",
      "1/1 [==============================] - 0s 21ms/step\n",
      "1/1 [==============================] - 0s 28ms/step\n",
      "1/1 [==============================] - 0s 17ms/step\n",
      "1/1 [==============================] - 0s 21ms/step\n",
      "1/1 [==============================] - 0s 28ms/step\n",
      "1/1 [==============================] - 0s 16ms/step\n",
      "1/1 [==============================] - 0s 22ms/step\n",
      "1/1 [==============================] - 0s 29ms/step\n",
      "1/1 [==============================] - 0s 17ms/step\n",
      "1/1 [==============================] - 0s 22ms/step\n",
      "1/1 [==============================] - 0s 27ms/step\n",
      "1/1 [==============================] - 0s 17ms/step\n",
      "1/1 [==============================] - 0s 22ms/step\n",
      "1/1 [==============================] - 0s 27ms/step\n",
      "1/1 [==============================] - 0s 17ms/step\n",
      "1/1 [==============================] - 0s 22ms/step\n",
      "1/1 [==============================] - 0s 26ms/step\n",
      "1/1 [==============================] - 0s 17ms/step\n",
      "1/1 [==============================] - 0s 22ms/step\n",
      "1/1 [==============================] - 0s 27ms/step\n",
      "1/1 [==============================] - 0s 18ms/step\n",
      "1/1 [==============================] - 0s 22ms/step\n",
      "1/1 [==============================] - 0s 27ms/step\n",
      "1/1 [==============================] - 0s 16ms/step\n",
      "1/1 [==============================] - 0s 22ms/step\n",
      "1/1 [==============================] - 0s 27ms/step\n",
      "1/1 [==============================] - 0s 17ms/step\n",
      "1/1 [==============================] - 0s 22ms/step\n",
      "1/1 [==============================] - 0s 26ms/step\n",
      "1/1 [==============================] - 0s 16ms/step\n",
      "1/1 [==============================] - 0s 22ms/step\n",
      "1/1 [==============================] - 0s 26ms/step\n",
      "1/1 [==============================] - 0s 18ms/step\n",
      "1/1 [==============================] - 0s 22ms/step\n",
      "1/1 [==============================] - 0s 29ms/step\n",
      "1/1 [==============================] - 0s 17ms/step\n",
      "1/1 [==============================] - 0s 22ms/step\n",
      "1/1 [==============================] - 0s 26ms/step\n",
      "1/1 [==============================] - 0s 17ms/step\n",
      "1/1 [==============================] - 0s 22ms/step\n",
      "1/1 [==============================] - 0s 26ms/step\n",
      "1/1 [==============================] - 0s 16ms/step\n",
      "1/1 [==============================] - 0s 21ms/step\n",
      "1/1 [==============================] - 0s 27ms/step\n",
      "1/1 [==============================] - 0s 17ms/step\n",
      "1/1 [==============================] - 0s 22ms/step\n",
      "1/1 [==============================] - 0s 30ms/step\n",
      "1/1 [==============================] - 0s 17ms/step\n",
      "1/1 [==============================] - 0s 21ms/step\n",
      "1/1 [==============================] - 0s 26ms/step\n",
      "1/1 [==============================] - 0s 17ms/step\n",
      "1/1 [==============================] - 0s 21ms/step\n",
      "1/1 [==============================] - 0s 29ms/step\n",
      "1/1 [==============================] - 0s 17ms/step\n",
      "1/1 [==============================] - 0s 21ms/step\n",
      "1/1 [==============================] - 0s 26ms/step\n",
      "1/1 [==============================] - 0s 17ms/step\n",
      "1/1 [==============================] - 0s 22ms/step\n",
      "1/1 [==============================] - 0s 27ms/step\n",
      "1/1 [==============================] - 0s 17ms/step\n",
      "1/1 [==============================] - 0s 22ms/step\n",
      "1/1 [==============================] - 0s 27ms/step\n",
      "1/1 [==============================] - 0s 17ms/step\n",
      "1/1 [==============================] - 0s 21ms/step\n",
      "1/1 [==============================] - 0s 27ms/step\n",
      "1/1 [==============================] - 0s 16ms/step\n",
      "1/1 [==============================] - 0s 22ms/step\n",
      "1/1 [==============================] - 0s 27ms/step\n",
      "1/1 [==============================] - 0s 17ms/step\n",
      "1/1 [==============================] - 0s 21ms/step\n",
      "1/1 [==============================] - 0s 26ms/step\n",
      "1/1 [==============================] - 0s 16ms/step\n",
      "1/1 [==============================] - 0s 21ms/step\n",
      "1/1 [==============================] - 0s 27ms/step\n",
      "1/1 [==============================] - 0s 16ms/step\n",
      "1/1 [==============================] - 0s 22ms/step\n",
      "1/1 [==============================] - 0s 27ms/step\n",
      "1/1 [==============================] - 0s 16ms/step\n",
      "1/1 [==============================] - 0s 22ms/step\n",
      "1/1 [==============================] - 0s 27ms/step\n",
      "1/1 [==============================] - 0s 17ms/step\n",
      "1/1 [==============================] - 0s 22ms/step\n",
      "1/1 [==============================] - 0s 26ms/step\n",
      "1/1 [==============================] - 0s 16ms/step\n",
      "1/1 [==============================] - 0s 22ms/step\n",
      "1/1 [==============================] - 0s 26ms/step\n",
      "1/1 [==============================] - 0s 17ms/step\n",
      "1/1 [==============================] - 0s 22ms/step\n",
      "1/1 [==============================] - 0s 26ms/step\n",
      "1/1 [==============================] - 0s 16ms/step\n",
      "1/1 [==============================] - 0s 23ms/step\n",
      "1/1 [==============================] - 0s 27ms/step\n",
      "1/1 [==============================] - 0s 17ms/step\n",
      "1/1 [==============================] - 0s 21ms/step\n",
      "1/1 [==============================] - 0s 27ms/step\n",
      "1/1 [==============================] - 0s 18ms/step\n",
      "1/1 [==============================] - 0s 22ms/step\n",
      "1/1 [==============================] - 0s 27ms/step\n",
      "1/1 [==============================] - 0s 16ms/step\n",
      "1/1 [==============================] - 0s 23ms/step\n",
      "1/1 [==============================] - 0s 27ms/step\n",
      "1/1 [==============================] - 0s 16ms/step\n",
      "1/1 [==============================] - 0s 22ms/step\n",
      "1/1 [==============================] - 0s 27ms/step\n",
      "1/1 [==============================] - 0s 17ms/step\n",
      "1/1 [==============================] - 0s 22ms/step\n",
      "1/1 [==============================] - 0s 29ms/step\n",
      "1/1 [==============================] - 0s 18ms/step\n",
      "1/1 [==============================] - 0s 22ms/step\n",
      "1/1 [==============================] - 0s 27ms/step\n",
      "1/1 [==============================] - 0s 16ms/step\n",
      "1/1 [==============================] - 0s 22ms/step\n",
      "1/1 [==============================] - 0s 27ms/step\n",
      "1/1 [==============================] - 0s 17ms/step\n",
      "1/1 [==============================] - 0s 22ms/step\n",
      "1/1 [==============================] - 0s 28ms/step\n",
      "1/1 [==============================] - 0s 16ms/step\n",
      "1/1 [==============================] - 0s 22ms/step\n",
      "1/1 [==============================] - 0s 27ms/step\n",
      "1/1 [==============================] - 0s 17ms/step\n",
      "1/1 [==============================] - 0s 22ms/step\n",
      "1/1 [==============================] - 0s 26ms/step\n",
      "1/1 [==============================] - 0s 17ms/step\n",
      "1/1 [==============================] - 0s 22ms/step\n",
      "1/1 [==============================] - 0s 27ms/step\n",
      "1/1 [==============================] - 0s 16ms/step\n",
      "1/1 [==============================] - 0s 24ms/step\n",
      "1/1 [==============================] - 0s 30ms/step\n",
      "1/1 [==============================] - 0s 16ms/step\n",
      "1/1 [==============================] - 0s 22ms/step\n",
      "1/1 [==============================] - 0s 27ms/step\n",
      "1/1 [==============================] - 0s 17ms/step\n",
      "1/1 [==============================] - 0s 22ms/step\n",
      "1/1 [==============================] - 0s 27ms/step\n",
      "1/1 [==============================] - 0s 17ms/step\n",
      "1/1 [==============================] - 0s 23ms/step\n",
      "1/1 [==============================] - 0s 27ms/step\n",
      "1/1 [==============================] - 0s 16ms/step\n",
      "1/1 [==============================] - 0s 22ms/step\n",
      "1/1 [==============================] - 0s 26ms/step\n",
      "1/1 [==============================] - 0s 17ms/step\n",
      "1/1 [==============================] - 0s 22ms/step\n",
      "1/1 [==============================] - 0s 27ms/step\n",
      "1/1 [==============================] - 0s 17ms/step\n",
      "1/1 [==============================] - 0s 22ms/step\n",
      "1/1 [==============================] - 0s 30ms/step\n",
      "1/1 [==============================] - 0s 17ms/step\n",
      "1/1 [==============================] - 0s 21ms/step\n",
      "1/1 [==============================] - 0s 26ms/step\n",
      "1/1 [==============================] - 0s 16ms/step\n",
      "1/1 [==============================] - 0s 22ms/step\n",
      "1/1 [==============================] - 0s 27ms/step\n",
      "1/1 [==============================] - 0s 17ms/step\n",
      "1/1 [==============================] - 0s 22ms/step\n",
      "1/1 [==============================] - 0s 28ms/step\n",
      "1/1 [==============================] - 0s 17ms/step\n",
      "1/1 [==============================] - 0s 22ms/step\n",
      "1/1 [==============================] - 0s 28ms/step\n",
      "1/1 [==============================] - 0s 16ms/step\n",
      "1/1 [==============================] - 0s 22ms/step\n",
      "1/1 [==============================] - 0s 27ms/step\n",
      "1/1 [==============================] - 0s 17ms/step\n",
      "1/1 [==============================] - 0s 22ms/step\n",
      "1/1 [==============================] - 0s 27ms/step\n",
      "1/1 [==============================] - 0s 17ms/step\n",
      "1/1 [==============================] - 0s 22ms/step\n",
      "1/1 [==============================] - 0s 27ms/step\n",
      "1/1 [==============================] - 0s 16ms/step\n",
      "1/1 [==============================] - 0s 21ms/step\n",
      "1/1 [==============================] - 0s 26ms/step\n",
      "1/1 [==============================] - 0s 16ms/step\n",
      "1/1 [==============================] - 0s 26ms/step\n",
      "1/1 [==============================] - 0s 30ms/step\n",
      "1/1 [==============================] - 0s 16ms/step\n",
      "1/1 [==============================] - 0s 22ms/step\n",
      "1/1 [==============================] - 0s 27ms/step\n",
      "1/1 [==============================] - 0s 17ms/step\n",
      "1/1 [==============================] - 0s 22ms/step\n",
      "1/1 [==============================] - 0s 27ms/step\n",
      "1/1 [==============================] - 0s 17ms/step\n",
      "1/1 [==============================] - 0s 22ms/step\n",
      "1/1 [==============================] - 0s 27ms/step\n",
      "1/1 [==============================] - 0s 17ms/step\n",
      "1/1 [==============================] - 0s 22ms/step\n",
      "1/1 [==============================] - 0s 28ms/step\n",
      "1/1 [==============================] - 0s 17ms/step\n",
      "1/1 [==============================] - 0s 22ms/step\n",
      "1/1 [==============================] - 0s 28ms/step\n",
      "1/1 [==============================] - 0s 17ms/step\n",
      "1/1 [==============================] - 0s 23ms/step\n",
      "1/1 [==============================] - 0s 27ms/step\n",
      "1/1 [==============================] - 0s 16ms/step\n",
      "1/1 [==============================] - 0s 22ms/step\n",
      "1/1 [==============================] - 0s 26ms/step\n",
      "1/1 [==============================] - 0s 16ms/step\n",
      "1/1 [==============================] - 0s 21ms/step\n",
      "1/1 [==============================] - 0s 28ms/step\n",
      "1/1 [==============================] - 0s 18ms/step\n",
      "1/1 [==============================] - 0s 22ms/step\n",
      "1/1 [==============================] - 0s 27ms/step\n",
      "1/1 [==============================] - 0s 17ms/step\n",
      "1/1 [==============================] - 0s 21ms/step\n",
      "1/1 [==============================] - 0s 26ms/step\n",
      "1/1 [==============================] - 0s 18ms/step\n",
      "1/1 [==============================] - 0s 21ms/step\n",
      "1/1 [==============================] - 0s 29ms/step\n",
      "1/1 [==============================] - 0s 18ms/step\n",
      "1/1 [==============================] - 0s 22ms/step\n",
      "1/1 [==============================] - 0s 27ms/step\n",
      "1/1 [==============================] - 0s 17ms/step\n",
      "1/1 [==============================] - 0s 22ms/step\n",
      "1/1 [==============================] - 0s 27ms/step\n",
      "1/1 [==============================] - 0s 17ms/step\n",
      "1/1 [==============================] - 0s 22ms/step\n",
      "1/1 [==============================] - 0s 29ms/step\n",
      "1/1 [==============================] - 0s 17ms/step\n",
      "1/1 [==============================] - 0s 23ms/step\n",
      "1/1 [==============================] - 0s 27ms/step\n",
      "1/1 [==============================] - 0s 17ms/step\n",
      "1/1 [==============================] - 0s 22ms/step\n",
      "1/1 [==============================] - 0s 30ms/step\n",
      "1/1 [==============================] - 0s 18ms/step\n",
      "1/1 [==============================] - 0s 25ms/step\n",
      "1/1 [==============================] - 0s 27ms/step\n",
      "1/1 [==============================] - 0s 17ms/step\n",
      "1/1 [==============================] - 0s 23ms/step\n",
      "1/1 [==============================] - 0s 30ms/step\n",
      "1/1 [==============================] - 0s 19ms/step\n",
      "1/1 [==============================] - 0s 21ms/step\n",
      "1/1 [==============================] - 0s 29ms/step\n",
      "1/1 [==============================] - 0s 19ms/step\n",
      "1/1 [==============================] - 0s 22ms/step\n",
      "1/1 [==============================] - 0s 27ms/step\n",
      "1/1 [==============================] - 0s 17ms/step\n",
      "1/1 [==============================] - 0s 21ms/step\n",
      "1/1 [==============================] - 0s 27ms/step\n",
      "1/1 [==============================] - 0s 18ms/step\n",
      "1/1 [==============================] - 0s 23ms/step\n",
      "1/1 [==============================] - 0s 27ms/step\n",
      "1/1 [==============================] - 0s 16ms/step\n",
      "1/1 [==============================] - 0s 23ms/step\n",
      "1/1 [==============================] - 0s 29ms/step\n",
      "1/1 [==============================] - 0s 18ms/step\n",
      "1/1 [==============================] - 0s 22ms/step\n",
      "1/1 [==============================] - 0s 27ms/step\n",
      "1/1 [==============================] - 0s 18ms/step\n",
      "1/1 [==============================] - 0s 21ms/step\n",
      "1/1 [==============================] - 0s 26ms/step\n",
      "1/1 [==============================] - 0s 16ms/step\n",
      "1/1 [==============================] - 0s 21ms/step\n",
      "1/1 [==============================] - 0s 27ms/step\n",
      "1/1 [==============================] - 0s 18ms/step\n",
      "1/1 [==============================] - 0s 21ms/step\n",
      "1/1 [==============================] - 0s 27ms/step\n",
      "1/1 [==============================] - 0s 21ms/step\n",
      "1/1 [==============================] - 0s 22ms/step\n",
      "1/1 [==============================] - 0s 28ms/step\n",
      "1/1 [==============================] - 0s 17ms/step\n",
      "1/1 [==============================] - 0s 21ms/step\n",
      "1/1 [==============================] - 0s 30ms/step\n",
      "1/1 [==============================] - 0s 16ms/step\n",
      "1/1 [==============================] - 0s 22ms/step\n",
      "1/1 [==============================] - 0s 27ms/step\n",
      "1/1 [==============================] - 0s 16ms/step\n",
      "1/1 [==============================] - 0s 22ms/step\n",
      "1/1 [==============================] - 0s 27ms/step\n",
      "1/1 [==============================] - 0s 20ms/step\n",
      "1/1 [==============================] - 0s 22ms/step\n",
      "1/1 [==============================] - 0s 26ms/step\n",
      "1/1 [==============================] - 0s 16ms/step\n",
      "1/1 [==============================] - 0s 22ms/step\n",
      "1/1 [==============================] - 0s 27ms/step\n",
      "1/1 [==============================] - 0s 17ms/step\n",
      "1/1 [==============================] - 0s 22ms/step\n",
      "1/1 [==============================] - 0s 26ms/step\n",
      "1/1 [==============================] - 0s 16ms/step\n",
      "1/1 [==============================] - 0s 21ms/step\n",
      "1/1 [==============================] - 0s 27ms/step\n",
      "1/1 [==============================] - 0s 17ms/step\n",
      "1/1 [==============================] - 0s 23ms/step\n",
      "1/1 [==============================] - 0s 27ms/step\n",
      "1/1 [==============================] - 0s 17ms/step\n",
      "1/1 [==============================] - 0s 22ms/step\n",
      "1/1 [==============================] - 0s 28ms/step\n",
      "1/1 [==============================] - 0s 17ms/step\n",
      "1/1 [==============================] - 0s 22ms/step\n",
      "1/1 [==============================] - 0s 27ms/step\n",
      "1/1 [==============================] - 0s 17ms/step\n",
      "1/1 [==============================] - 0s 22ms/step\n",
      "1/1 [==============================] - 0s 27ms/step\n",
      "1/1 [==============================] - 0s 17ms/step\n",
      "1/1 [==============================] - 0s 24ms/step\n",
      "1/1 [==============================] - 0s 28ms/step\n",
      "1/1 [==============================] - 0s 17ms/step\n",
      "1/1 [==============================] - 0s 22ms/step\n",
      "1/1 [==============================] - 0s 27ms/step\n",
      "1/1 [==============================] - 0s 17ms/step\n",
      "1/1 [==============================] - 0s 22ms/step\n",
      "1/1 [==============================] - 0s 28ms/step\n",
      "1/1 [==============================] - 0s 17ms/step\n",
      "1/1 [==============================] - 0s 26ms/step\n",
      "1/1 [==============================] - 0s 32ms/step\n",
      "1/1 [==============================] - 0s 19ms/step\n",
      "1/1 [==============================] - 0s 23ms/step\n",
      "1/1 [==============================] - 0s 27ms/step\n"
     ]
    }
   ],
   "source": [
    "comb_preds = []\n",
    "true_preds = []\n",
    "\n",
    "for num_steps in range(len(test_ids)//32):\n",
    "    \n",
    "    ##Dataloader being used here must have been instantiated with the 'both' argument\n",
    "    \n",
    "    x_batch, y_batch = next(test_data_loader)\n",
    "    \n",
    "    vis_preds = visual_attention_model.predict(x_batch[0])\n",
    "    sem_preds = semantic_attention_model.predict(x_batch[1])\n",
    "    mm_preds = multimodal_attention_model.predict(x_batch)\n",
    "    \n",
    "    final_preds = combine_predictions([vis_preds, sem_preds, mm_preds])\n",
    "    \n",
    "    comb_preds.extend(final_preds)\n",
    "    true_preds.extend(list(y_batch))\n"
   ]
  },
  {
   "cell_type": "code",
   "execution_count": 48,
   "id": "4a60d43e",
   "metadata": {
    "execution": {
     "iopub.execute_input": "2023-09-14T21:28:48.436400Z",
     "iopub.status.busy": "2023-09-14T21:28:48.435956Z",
     "iopub.status.idle": "2023-09-14T21:28:48.467640Z",
     "shell.execute_reply": "2023-09-14T21:28:48.466413Z"
    },
    "papermill": {
     "duration": 7.993532,
     "end_time": "2023-09-14T21:28:48.469955",
     "exception": false,
     "start_time": "2023-09-14T21:28:40.476423",
     "status": "completed"
    },
    "tags": []
   },
   "outputs": [
    {
     "name": "stdout",
     "output_type": "stream",
     "text": [
      "              precision    recall  f1-score   support\n",
      "\n",
      "           0       0.80      0.87      0.84      8073\n",
      "           1       0.16      0.10      0.12      1911\n",
      "\n",
      "    accuracy                           0.73      9984\n",
      "   macro avg       0.48      0.49      0.48      9984\n",
      "weighted avg       0.68      0.73      0.70      9984\n",
      "\n"
     ]
    }
   ],
   "source": [
    "print(classification_report(true_preds, comb_preds))"
   ]
  },
  {
   "cell_type": "markdown",
   "id": "8184c613",
   "metadata": {},
   "source": [
    "Model Deployment"
   ]
  },
  {
   "cell_type": "code",
   "execution_count": null,
   "id": "9538ff80",
   "metadata": {},
   "outputs": [],
   "source": [
    "# Load your individual models\n",
    "visual_attention_model = load_model('C:\\\\Kingsley\\\\multimodia-hatespeech\\\\visual_attn_model\\\\best_modelversion22.h5')\n",
    "semantic_attention_model = load_model('C:\\\\Kingsley\\\\multimodia-hatespeech\\\\semantic_attention_model\\\\best_modelversion22.h5')\n",
    "multimodal_attention_model = load_model('C:\\\\Kingsley\\\\multimodia-hatespeech\\\\multimodal_attention_model\\\\best_modelversion22.h5')"
   ]
  },
  {
   "cell_type": "code",
   "execution_count": 148,
   "id": "d5cc17bb",
   "metadata": {},
   "outputs": [],
   "source": [
    "a = visual_attention_model.load_weights('visual_model_weights.h5')\n",
    "b = semantic_attention_model.load_weights('semantic_model_weights.h5')\n",
    "c = multimodal_attention_model.load_weights('multimodal_model_weights.h5')"
   ]
  },
  {
   "cell_type": "code",
   "execution_count": null,
   "id": "4df917ae",
   "metadata": {},
   "outputs": [],
   "source": [
    "a.summary()"
   ]
  },
  {
   "cell_type": "code",
   "execution_count": 153,
   "id": "ce8e97fb",
   "metadata": {},
   "outputs": [
    {
     "name": "stdout",
     "output_type": "stream",
     "text": [
      "Model: \"sequential_8\"\n",
      "_________________________________________________________________\n",
      " Layer (type)                Output Shape              Param #   \n",
      "=================================================================\n",
      " image_feature_extractor (Fu  (None, 64)               1189633   \n",
      " nctional)                                                       \n",
      "                                                                 \n",
      " dense_48 (Dense)            (None, 1)                 65        \n",
      "                                                                 \n",
      "=================================================================\n",
      "Total params: 1,189,698\n",
      "Trainable params: 1,189,570\n",
      "Non-trainable params: 128\n",
      "_________________________________________________________________\n"
     ]
    }
   ],
   "source": [
    "visual_attention_model.summary()"
   ]
  },
  {
   "cell_type": "code",
   "execution_count": 151,
   "id": "2c63bdf0",
   "metadata": {},
   "outputs": [
    {
     "name": "stdout",
     "output_type": "stream",
     "text": [
      "Model: \"sequential_9\"\n",
      "_________________________________________________________________\n",
      " Layer (type)                Output Shape              Param #   \n",
      "=================================================================\n",
      " model_12 (Functional)       (None, 64)                8149185   \n",
      "                                                                 \n",
      " dense_52 (Dense)            (None, 1)                 65        \n",
      "                                                                 \n",
      "=================================================================\n",
      "Total params: 8,149,250\n",
      "Trainable params: 8,149,250\n",
      "Non-trainable params: 0\n",
      "_________________________________________________________________\n"
     ]
    }
   ],
   "source": [
    "semantic_attention_model.summary()"
   ]
  },
  {
   "cell_type": "code",
   "execution_count": 152,
   "id": "a4b1e318",
   "metadata": {},
   "outputs": [
    {
     "name": "stdout",
     "output_type": "stream",
     "text": [
      "Model: \"model_14\"\n",
      "__________________________________________________________________________________________________\n",
      " Layer (type)                   Output Shape         Param #     Connected to                     \n",
      "==================================================================================================\n",
      " input_27 (InputLayer)          [(None, 224, 224, 3  0           []                               \n",
      "                                )]                                                                \n",
      "                                                                                                  \n",
      " input_28 (InputLayer)          [(None, 50)]         0           []                               \n",
      "                                                                                                  \n",
      " image_feature_extractor (Funct  (None, 64)          1189633     ['input_27[0][0]']               \n",
      " ional)                                                                                           \n",
      "                                                                                                  \n",
      " model_13 (Functional)          (None, 64)           8149185     ['input_28[0][0]']               \n",
      "                                                                                                  \n",
      " concatenate_3 (Concatenate)    (None, 128)          0           ['image_feature_extractor[0][0]',\n",
      "                                                                  'model_13[0][0]']               \n",
      "                                                                                                  \n",
      " dense_57 (Dense)               (None, 1)            129         ['concatenate_3[0][0]']          \n",
      "                                                                                                  \n",
      "==================================================================================================\n",
      "Total params: 9,338,947\n",
      "Trainable params: 9,338,819\n",
      "Non-trainable params: 128\n",
      "__________________________________________________________________________________________________\n"
     ]
    }
   ],
   "source": [
    "multimodal_attention_model.summary()"
   ]
  },
  {
   "cell_type": "code",
   "execution_count": 54,
   "id": "8912246d",
   "metadata": {},
   "outputs": [],
   "source": [
    "# Define the majority voting function\n",
    "def combine_predictions(predictions_list):\n",
    "    num_samples = len(predictions_list[0])\n",
    "    combined_predictions = []\n",
    "\n",
    "    for i in range(num_samples):\n",
    "        sample_predictions = [model_predictions[i] for model_predictions in predictions_list]\n",
    "        num_ones = np.sum(sample_predictions)\n",
    "        num_zeros = len(sample_predictions) - num_ones\n",
    "\n",
    "        if num_ones > num_zeros:\n",
    "            combined_predictions.append(1)\n",
    "        else:\n",
    "            combined_predictions.append(0)\n",
    "\n",
    "    return combined_predictions"
   ]
  },
  {
   "cell_type": "code",
   "execution_count": 155,
   "id": "5167f7ad",
   "metadata": {},
   "outputs": [],
   "source": [
    "# Define the combined model class\n",
    "class CombinedModel(tf.keras.Model):\n",
    "    def __init__(self, visual_model, semantic_model, multimodal_model):\n",
    "        super(CombinedModel, self).__init__()\n",
    "        self.visual_model = visual_model\n",
    "        self.semantic_model = semantic_model\n",
    "        self.multimodal_model = multimodal_model\n",
    "\n",
    "    def call(self, inputs):\n",
    "        image_input, text_input = inputs\n",
    "        \n",
    "        vis_preds = self.visual_model.predict(image_input)\n",
    "        sem_preds = self.semantic_model.predict(text_input)\n",
    "        mm_preds = self.multimodal_model.predict([image_input, text_input])\n",
    "        \n",
    "        final_preds = combine_predictions([vis_preds, sem_preds, mm_preds])\n",
    "        return final_preds"
   ]
  },
  {
   "cell_type": "code",
   "execution_count": 156,
   "id": "30813aa0",
   "metadata": {},
   "outputs": [],
   "source": [
    "combined_model = CombinedModel(visual_attention_model, semantic_attention_model, multimodal_attention_model)"
   ]
  },
  {
   "cell_type": "markdown",
   "id": "ce9e2de4",
   "metadata": {},
   "source": [
    "Streamlit\n"
   ]
  },
  {
   "cell_type": "code",
   "execution_count": 16,
   "id": "4a03d3c5",
   "metadata": {},
   "outputs": [],
   "source": [
    "# Load models\n",
    "visual_attention_model = load_model('C:\\\\Kingsley\\\\multimodia-hatespeech\\\\visual_attn_model\\\\best_modelversion22v2.h5')\n",
    "semantic_attention_model = load_model('C:\\\\Kingsley\\\\multimodia-hatespeech\\\\semantic_attention_model\\\\best_modelversion22_v2.h5')\n",
    "multimodal_attention_model = load_model('C:\\\\Kingsley\\multimodia-hatespeech\\multimodal_attention_model\\\\best_modelversion22_v2.h5')"
   ]
  }
 ],
 "metadata": {
  "kernelspec": {
   "display_name": "Python 3",
   "language": "python",
   "name": "python3"
  },
  "language_info": {
   "codemirror_mode": {
    "name": "ipython",
    "version": 3
   },
   "file_extension": ".py",
   "mimetype": "text/x-python",
   "name": "python",
   "nbconvert_exporter": "python",
   "pygments_lexer": "ipython3",
   "version": "3.10.14"
  },
  "papermill": {
   "default_parameters": {},
   "duration": 24270.293583,
   "end_time": "2023-09-14T21:29:47.877152",
   "environment_variables": {},
   "exception": null,
   "input_path": "__notebook__.ipynb",
   "output_path": "__notebook__.ipynb",
   "parameters": {},
   "start_time": "2023-09-14T14:45:17.583569",
   "version": "2.4.0"
  }
 },
 "nbformat": 4,
 "nbformat_minor": 5
}
